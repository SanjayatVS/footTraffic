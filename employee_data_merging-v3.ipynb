{
 "cells": [
  {
   "cell_type": "code",
   "execution_count": 75,
   "metadata": {
    "ExecuteTime": {
     "end_time": "2019-03-14T15:34:17.365600Z",
     "start_time": "2019-03-14T15:34:16.943050Z"
    }
   },
   "outputs": [],
   "source": [
    "import pandas as pd \n",
    "import numpy as np \n",
    "import datetime as dt\n",
    "from datetime import timedelta\n",
    "import os\n",
    "import sys\n",
    "import pyodbc\n",
    "import time\n",
    "import matplotlib.pyplot as plt\n",
    "from pandas.tseries.offsets import BDay\n",
    "from sklearn import preprocessing\n",
    "import math \n",
    "from sklearn.preprocessing import StandardScaler\n",
    "import statsmodels.api as sm \n"
   ]
  },
  {
   "cell_type": "code",
   "execution_count": 2,
   "metadata": {
    "ExecuteTime": {
     "end_time": "2019-03-14T14:37:20.848219Z",
     "start_time": "2019-03-14T14:37:20.844085Z"
    }
   },
   "outputs": [],
   "source": [
    "def datetime_range(start, end, delta):\n",
    "    current = start\n",
    "    if not isinstance(delta, timedelta):\n",
    "        delta = timedelta(**delta)\n",
    "    while current < end:\n",
    "        yield current\n",
    "        current += delta"
   ]
  },
  {
   "cell_type": "markdown",
   "metadata": {},
   "source": [
    "# Bring in Punch In Data from HR "
   ]
  },
  {
   "cell_type": "code",
   "execution_count": 3,
   "metadata": {
    "ExecuteTime": {
     "end_time": "2019-03-14T14:37:46.629934Z",
     "start_time": "2019-03-14T14:37:22.309417Z"
    }
   },
   "outputs": [],
   "source": [
    "punchTimesDF = pd.read_csv(r'/Users/sanjaygopinath/Documents/Data/foot_traffic_project/RetailDailyPunches.csv', index_col=None)\n",
    "\n",
    "punchTimesDF.rename(columns= {'In Punch Date':'In_Date', 'In Punch Time':'In_Time', 'Out Punch Date':'Out_Date',\n",
    "                                  'Out Punch Time':'Out_Time','Store Number':'Store_Number', 'EE Number':'EE_Number'}, inplace=True)\n",
    "title_dictionary = {'Key Holder full time':'Key Holder', 'Key Holder Part Time':'Key Holder', 'Key Holder Part time':'Key Holder',\n",
    "            'Key Holder part time':'Key Holder', 'Key Holder Full Time':'Key Holder', 'Sr. Sales Associate':'Sales Associate'}\n",
    "\n",
    "punchTimesDF.replace({\"Title\": title_dictionary}, inplace=True)\n",
    "\n",
    "\n",
    "#Combining date and hours into a single colummn \n",
    "punchTimesDF['in'] = punchTimesDF['In_Date'] + ' ' + punchTimesDF['In_Time']\n",
    "\n",
    "punchTimesDF['out'] = punchTimesDF['Out_Date'] + ' ' + punchTimesDF['Out_Time']\n",
    "\n",
    "#Converting to datetime \n",
    "\n",
    "punchTimesDF['in'] = pd.to_datetime(punchTimesDF['in'])\n",
    "punchTimesDF['out'] = pd.to_datetime(punchTimesDF['out'])\n",
    "\n",
    "\n",
    "#calculating the hours worked from our raw times \n",
    "punchTimesDF['raw_hours'] = punchTimesDF['out'] - punchTimesDF['in']\n",
    "\n",
    "#ROunding the in and out dates to the nearest half hour \n",
    "\n",
    "\n",
    "\n",
    "\n",
    "punchTimesDF['rounded_in'] = punchTimesDF['in'].dt.round('15min')\n",
    "\n",
    "punchTimesDF['rounded_out'] = punchTimesDF['out'].dt.round('15min')\n",
    "\n",
    "\n",
    "\n",
    "\n",
    "\n",
    "#calcuatling the hours worked from our rounded times\n",
    "\n",
    "punchTimesDF['rounded_hours'] = punchTimesDF['rounded_out'] - punchTimesDF['rounded_in']\n",
    "\n"
   ]
  },
  {
   "cell_type": "code",
   "execution_count": 4,
   "metadata": {
    "ExecuteTime": {
     "end_time": "2019-03-14T15:00:49.127362Z",
     "start_time": "2019-03-14T14:37:46.631738Z"
    }
   },
   "outputs": [],
   "source": [
    "#This bit creates a very narrow, long dataframe that should have every store number, every hour and every EE number\n",
    "# that is in the punch data, we then use a groupby to get the number of unique names for each store hour, so that we know \n",
    "#the number of employees in the store at anyone time \n",
    "\n",
    "\n",
    "emptyFrame = pd.DataFrame()\n",
    "\n",
    "for i in punchTimesDF.index:\n",
    "    x = ([datetime_range(punchTimesDF['rounded_in'][i], punchTimesDF['rounded_out'][i], {'minutes':15})])\n",
    "    tFrame= pd.DataFrame(x)\n",
    "    tFrame = tFrame.transpose()\n",
    "    tFrame.rename(columns={0:'hours'}, inplace=True)\n",
    "    tFrame['EE_Number'] = punchTimesDF['EE_Number'][i]\n",
    "    tFrame['Store_Number'] = punchTimesDF['Store_Number'][i]\n",
    "    emptyFrame = emptyFrame.append(tFrame, )\n",
    "    \n",
    "grouped_emp_frame = emptyFrame['EE_Number'].groupby([emptyFrame['hours'], emptyFrame['Store_Number']]).nunique()\n",
    "grouped_emp_frame = grouped_emp_frame.reset_index()\n",
    "grouped_emp_frame.rename(columns={'EE_Number':'In_Store'}, inplace=True)"
   ]
  },
  {
   "cell_type": "markdown",
   "metadata": {},
   "source": [
    "# We pull in transaction data from our sql server"
   ]
  },
  {
   "cell_type": "code",
   "execution_count": 5,
   "metadata": {
    "ExecuteTime": {
     "end_time": "2019-03-14T15:00:49.135641Z",
     "start_time": "2019-03-14T15:00:49.129385Z"
    }
   },
   "outputs": [],
   "source": [
    "def Generic_QL_Query(query, UID, password ):\n",
    "\n",
    "#Establish our connection to the server \n",
    "    conn_string = 'DRIVER=/usr/local/lib/libtdsodbc.so;SERVER=wnj-datasizesql;PORT=1433;DATABASE=Data Analytics;UID={};PWD={}'.format(UID,password)\n",
    "    conn = pyodbc.connect(conn_string)\n",
    "    \n",
    "#Run our sql query\n",
    "\n",
    "    \n",
    "    start_time = time.time()\n",
    "\n",
    "    trFrame = pd.read_sql_query(query, conn)\n",
    "\n",
    "    conn.close()\n",
    "\n",
    "    end_time = time.time()\n",
    "\n",
    "    run_time = (end_time-start_time)/60\n",
    "\n",
    "    print(run_time)\n",
    "    return(trFrame)"
   ]
  },
  {
   "cell_type": "code",
   "execution_count": null,
   "metadata": {
    "ExecuteTime": {
     "end_time": "2019-02-27T16:08:18.416401Z",
     "start_time": "2019-02-27T16:08:18.413604Z"
    }
   },
   "outputs": [],
   "source": [
    "#The above is a half hourly summary of transactions for each store, below is a fifteen minute summary of transactions \n",
    "#for each store"
   ]
  },
  {
   "cell_type": "code",
   "execution_count": 144,
   "metadata": {
    "ExecuteTime": {
     "end_time": "2019-03-14T19:07:44.966254Z",
     "start_time": "2019-03-14T19:07:44.961642Z"
    }
   },
   "outputs": [],
   "source": [
    "query = \"\"\"  select\n",
    "       a.transaction_datetime, a.store_no,\n",
    "       count(a.transaction_id) as transaction_count,\n",
    "       SUM(a.total_amount) as total_amount,\n",
    "       SUM(a.total_amount)/count(a.transaction_id) as AOV5min\n",
    "  FROM (\n",
    "         SELECT transaction_id, store_no,\n",
    "                CONVERT(smalldatetime, ROUND(CONVERT(float, CONVERT(datetime, entry_date_time)) * 96.0, 0, 1) /\n",
    "                                       96.0)                 as transaction_datetime,\n",
    "                SUM(gross_line_amount - pos_discount_amount) as total_amount\n",
    "         FROM transaction_detail_entry_datetime\n",
    "         where\n",
    "           sku_id is not null\n",
    "          and store_no in\n",
    "          (28,  229,  397,   18,   30,   40,   47,   67,   69,   71,  120,\n",
    "        136,  144,  147,  167,  187,  192,  201,  210,  214,  242,  275,\n",
    "        297,  301,  309,  312,  314,  315,  319,  323,  342,  350,  355,\n",
    "        357,  359,  388,  442,  450,  452,  453,  456,  466,  488,  511,\n",
    "        517,  528,  536,  554,  559,  571,  583,  597,  598,  607,  612,\n",
    "        616,  617,  623,  633,  679,  689,  703,  710,  712,  763,  777,\n",
    "        784,  823,  828,  833,  861, 1003, 1013,   60,  189,  444,  507,\n",
    "        573,  868)\n",
    "         GROUP BY transaction_id, store_no,\n",
    "         CONVERT(smalldatetime, ROUND(CONVERT(float, CONVERT(datetime, entry_date_time)) * 96.0, 0, 1) / 96.0)\n",
    "       )a\n",
    "GROUP BY a.store_no, a.transaction_datetime\n",
    "ORDER BY  a.store_no,a.transaction_datetime;\"\"\"\n",
    "\n"
   ]
  },
  {
   "cell_type": "code",
   "execution_count": 145,
   "metadata": {
    "ExecuteTime": {
     "end_time": "2019-03-14T19:07:49.156152Z",
     "start_time": "2019-03-14T19:07:45.394426Z"
    }
   },
   "outputs": [
    {
     "name": "stdout",
     "output_type": "stream",
     "text": [
      "0.059511466821034746\n"
     ]
    }
   ],
   "source": [
    "storeSales_frame = Generic_QL_Query(query,'Dhananjay.Kumar','password1!')"
   ]
  },
  {
   "cell_type": "code",
   "execution_count": 8,
   "metadata": {
    "ExecuteTime": {
     "end_time": "2019-03-14T15:00:53.354351Z",
     "start_time": "2019-03-14T15:00:53.338139Z"
    }
   },
   "outputs": [],
   "source": [
    "#Dhananjay's code above rounds every single transaction down to the nearest 15 minute increment\n",
    "#but because of the way we are joining our different data frames, we need everything to be rounded up \n",
    "#\n",
    "#In other words, the 8:15 row should reflect all transactions that occurred between 8 and 8:15\n",
    "#We are joining our labor hours and transaction data on \n",
    "\n",
    "storeSales_frame['transaction_datetime'] = storeSales_frame['transaction_datetime'] +pd.Timedelta('15 minute')"
   ]
  },
  {
   "cell_type": "markdown",
   "metadata": {},
   "source": [
    "# Bring in Foot Traffic data"
   ]
  },
  {
   "cell_type": "code",
   "execution_count": 32,
   "metadata": {
    "ExecuteTime": {
     "end_time": "2019-03-14T15:18:29.572959Z",
     "start_time": "2019-03-14T15:18:29.569603Z"
    }
   },
   "outputs": [],
   "source": [
    "query = \"\"\"SELECT  *\n",
    "    FROM daily_stores_traffic_min \"\"\"\n",
    "\n"
   ]
  },
  {
   "cell_type": "code",
   "execution_count": 33,
   "metadata": {
    "ExecuteTime": {
     "end_time": "2019-03-14T15:18:35.824530Z",
     "start_time": "2019-03-14T15:18:32.916062Z"
    }
   },
   "outputs": [
    {
     "name": "stdout",
     "output_type": "stream",
     "text": [
      "0.04551411469777425\n"
     ]
    }
   ],
   "source": [
    "traffic_frame = Generic_QL_Query(query,'Dhananjay.Kumar','password1!')\n",
    "#Since we are using the end of the time period, we need them to be round numbers, at the moment, they are inclusive \n",
    "#2019-01-02 08:00:00\t2019-01-02 08:14:00\n",
    "#We need to change that to \n",
    "# 2019-01-02 08:00:00\t2019-01-02 08:15:00\n",
    "traffic_frame['traffic_until'] = traffic_frame['traffic_until'] +pd.Timedelta('1 minute')\n",
    "traffic_frame['day'] = traffic_frame.traffic_from.dt.dayofweek\n",
    "traffic_frame['weekend'] = traffic_frame['day'].isin([5,6])"
   ]
  },
  {
   "cell_type": "code",
   "execution_count": 12,
   "metadata": {
    "ExecuteTime": {
     "end_time": "2019-03-14T15:00:55.567820Z",
     "start_time": "2019-03-14T15:00:55.562507Z"
    }
   },
   "outputs": [],
   "source": [
    "#add a weekend flag\n",
    "traffic_frame['weekend'] = traffic_frame['day'].isin([5,6])"
   ]
  },
  {
   "cell_type": "markdown",
   "metadata": {},
   "source": [
    "# Let's combine all 3 data sets "
   ]
  },
  {
   "cell_type": "code",
   "execution_count": 34,
   "metadata": {
    "ExecuteTime": {
     "end_time": "2019-03-14T15:18:47.409673Z",
     "start_time": "2019-03-14T15:18:47.216340Z"
    }
   },
   "outputs": [],
   "source": [
    "final_frame = pd.merge(traffic_frame, grouped_emp_frame,  how='left', left_on=['traffic_until','store_no'], right_on = ['hours','Store_Number'])"
   ]
  },
  {
   "cell_type": "code",
   "execution_count": 35,
   "metadata": {
    "ExecuteTime": {
     "end_time": "2019-03-14T15:18:48.869926Z",
     "start_time": "2019-03-14T15:18:48.799605Z"
    }
   },
   "outputs": [],
   "source": [
    "final_frame = pd.merge(final_frame, storeSales_frame,  how='left', left_on=['traffic_until','store_no'], right_on = ['transaction_datetime','store_no'])"
   ]
  },
  {
   "cell_type": "code",
   "execution_count": 36,
   "metadata": {
    "ExecuteTime": {
     "end_time": "2019-03-14T15:18:49.566149Z",
     "start_time": "2019-03-14T15:18:49.559475Z"
    }
   },
   "outputs": [
    {
     "name": "stdout",
     "output_type": "stream",
     "text": [
      "There are 0.1677764871143768 perecentage of 15 minute increments that dont have any transactions\n"
     ]
    }
   ],
   "source": [
    "print(\"There are {} perecentage of 15 minute increments that dont have any transactions\".format(np.sum(final_frame.transaction_datetime.isna())/final_frame.shape[0]))"
   ]
  },
  {
   "cell_type": "code",
   "execution_count": 38,
   "metadata": {
    "ExecuteTime": {
     "end_time": "2019-03-14T15:18:54.459917Z",
     "start_time": "2019-03-14T15:18:54.455061Z"
    }
   },
   "outputs": [],
   "source": [
    "final_frame.set_index('traffic_until', inplace=True)"
   ]
  },
  {
   "cell_type": "code",
   "execution_count": 39,
   "metadata": {
    "ExecuteTime": {
     "end_time": "2019-03-14T15:18:55.986582Z",
     "start_time": "2019-03-14T15:18:55.967781Z"
    }
   },
   "outputs": [],
   "source": [
    "#Fill in the Nans with zero (since no records means no transactions)\n",
    "for i in ['transaction_count','total_amount','AOV5min']:\n",
    "    final_frame[i].fillna(0, inplace=True)\n",
    "\n",
    "final_frame['conv_rate'] = final_frame['transaction_count']/final_frame['traffic_out'] \n",
    "final_frame['conv_rate'].fillna(0, inplace=True)\n",
    "final_frame['conv_rate'].replace(float('Inf'), 1, inplace=True)\n",
    "\n",
    "final_frame['In_Store'].fillna(1, inplace=True)\n"
   ]
  },
  {
   "cell_type": "code",
   "execution_count": 219,
   "metadata": {
    "ExecuteTime": {
     "end_time": "2019-03-14T20:45:50.457149Z",
     "start_time": "2019-03-14T20:45:50.441820Z"
    }
   },
   "outputs": [],
   "source": [
    "#Createa a customer to employee ratio \n",
    "final_frame['cust_to_emp'] = final_frame.traffic_out/final_frame.In_Store"
   ]
  },
  {
   "cell_type": "markdown",
   "metadata": {},
   "source": [
    "# Analysis"
   ]
  },
  {
   "cell_type": "code",
   "execution_count": 52,
   "metadata": {
    "ExecuteTime": {
     "end_time": "2019-03-14T15:24:02.769113Z",
     "start_time": "2019-03-14T15:24:02.762418Z"
    }
   },
   "outputs": [],
   "source": [
    "#Let's subset our data to just the stores we need to analayze now (for the time being (Mar 14), we are \n",
    "# focused on just Boston Stores)\n",
    "test_districts_lists = pd.read_csv(r'/Users/sanjaygopinath/Documents/Data/foot_traffic_project/Received/Test_District_List.csv', header=0)"
   ]
  },
  {
   "cell_type": "code",
   "execution_count": 69,
   "metadata": {
    "ExecuteTime": {
     "end_time": "2019-03-14T15:27:36.751240Z",
     "start_time": "2019-03-14T15:27:36.741311Z"
    },
    "scrolled": true
   },
   "outputs": [],
   "source": [
    "#Here we are subsetting to just district 108 (New England)\n",
    "final_frame = final_frame[final_frame.store_no.isin(test_districts_lists[test_districts_lists.District == 108]['Store_no'])]"
   ]
  },
  {
   "cell_type": "code",
   "execution_count": 72,
   "metadata": {
    "ExecuteTime": {
     "end_time": "2019-03-14T15:28:40.478046Z",
     "start_time": "2019-03-14T15:28:40.009642Z"
    },
    "scrolled": false
   },
   "outputs": [],
   "source": [
    "#normalize the number of employees in store by store and day and hour (x - x.mean)/x.std_dev\n",
    "final_frame['In_Store_Normalized'] = final_frame['In_Store'].groupby([final_frame['store_no'],final_frame['day'],final_frame.traffic_until.dt.hour]).transform(lambda x: (x - x.mean()) / x.std())"
   ]
  },
  {
   "cell_type": "code",
   "execution_count": null,
   "metadata": {},
   "outputs": [],
   "source": []
  },
  {
   "cell_type": "code",
   "execution_count": 230,
   "metadata": {
    "ExecuteTime": {
     "end_time": "2019-03-15T14:36:57.891353Z",
     "start_time": "2019-03-15T14:36:57.867808Z"
    }
   },
   "outputs": [
    {
     "data": {
      "text/plain": [
       "array([[1.        , 0.59292659],\n",
       "       [0.59292659, 1.        ]])"
      ]
     },
     "execution_count": 230,
     "metadata": {},
     "output_type": "execute_result"
    }
   ],
   "source": [
    "#Is the ratio of customer to employees related to the conversion rate? \n",
    "\n",
    "np.corrcoef(final_frame.cust_to_emp, final_frame.total_amount)"
   ]
  },
  {
   "cell_type": "code",
   "execution_count": 44,
   "metadata": {
    "ExecuteTime": {
     "end_time": "2019-03-14T15:21:33.987571Z",
     "start_time": "2019-03-14T15:21:33.982419Z"
    }
   },
   "outputs": [],
   "source": [
    "final_frame.reset_index(inplace=True)"
   ]
  },
  {
   "cell_type": "code",
   "execution_count": 45,
   "metadata": {
    "ExecuteTime": {
     "end_time": "2019-03-14T15:21:36.026396Z",
     "start_time": "2019-03-14T15:21:35.980288Z"
    }
   },
   "outputs": [],
   "source": [
    "#Get store, day, hour rankings \n",
    "\n",
    "final_frame['In_Store_Normalized'] = final_frame['In_Store'].groupby([final_frame['store_no'],final_frame['day'],final_frame['traffic_until'].dt.hour]).rank()"
   ]
  },
  {
   "cell_type": "code",
   "execution_count": 46,
   "metadata": {
    "ExecuteTime": {
     "end_time": "2019-03-14T15:21:37.553854Z",
     "start_time": "2019-03-14T15:21:37.518140Z"
    }
   },
   "outputs": [],
   "source": [
    "#Get store, day, hour rankings converted to percent\n",
    "final_frame['In_Store_Normalized'] = final_frame['In_Store'].groupby([final_frame['store_no'],final_frame['traffic_until'].dt.hour]).rank(pct=True)"
   ]
  },
  {
   "cell_type": "code",
   "execution_count": 47,
   "metadata": {
    "ExecuteTime": {
     "end_time": "2019-03-14T15:21:38.741357Z",
     "start_time": "2019-03-14T15:21:38.718204Z"
    }
   },
   "outputs": [],
   "source": [
    "tempFrame = final_frame[final_frame['store_no']==60] #subset by store \n",
    "tempFrame = final_frame[final_frame['day']==5] #subset by day \n",
    "tempFrame = final_frame[final_frame.traffic_until.dt.hour.isin([10])] #subset by hour"
   ]
  },
  {
   "cell_type": "code",
   "execution_count": 48,
   "metadata": {
    "ExecuteTime": {
     "end_time": "2019-03-14T15:21:44.594013Z",
     "start_time": "2019-03-14T15:21:44.572829Z"
    },
    "scrolled": true
   },
   "outputs": [
    {
     "name": "stderr",
     "output_type": "stream",
     "text": [
      "/anaconda3/lib/python3.6/site-packages/ipykernel_launcher.py:1: FutureWarning: using a dict on a Series for aggregation\n",
      "is deprecated and will be removed in a future version\n",
      "  \"\"\"Entry point for launching an IPython kernel.\n"
     ]
    }
   ],
   "source": [
    "x = tempFrame['total_amount'].groupby([tempFrame['In_Store'],tempFrame['traffic_out'], tempFrame['Store_Number'] ]).agg({'sum':'sum', 'count':'count'})"
   ]
  },
  {
   "cell_type": "code",
   "execution_count": 76,
   "metadata": {
    "ExecuteTime": {
     "end_time": "2019-03-14T15:34:20.467424Z",
     "start_time": "2019-03-14T15:34:20.335772Z"
    },
    "scrolled": true
   },
   "outputs": [],
   "source": [
    "#Create a df correlating the total amount of sales against the number of people in store (or some other variable)\n",
    "results_frame = pd.DataFrame()\n",
    "for i in list(final_frame.store_no.unique()):\n",
    "    temp_results_frame = pd.DataFrame(columns=['store', 'r_squared', 'observations'], index=[0])\n",
    "    tempFrame = final_frame[final_frame['store_no']==i] #subset by day \n",
    "    tempFrame = tempFrame[tempFrame['weekend']==True]\n",
    "    \n",
    "    y = tempFrame[\"total_amount\"]\n",
    "    X = tempFrame['In_Store']\n",
    "    #y = tempFrame[\"traffic_out\"]\n",
    "\n",
    "    # Note the difference in argument order\n",
    "    model = sm.OLS(y, X).fit()\n",
    "    \n",
    "    temp_results_frame['store'] = i \n",
    "    temp_results_frame['r_squared'] = model.rsquared\n",
    "    temp_results_frame['observations'] = model.nobs\n",
    "    temp_results_frame['cor_ft_instore'] =  np.corrcoef(tempFrame['traffic_out'], tempFrame['In_Store'])[1][0]\n",
    "    #print(temp_results_frame, i, model.rsquared)\n",
    "    \n",
    "    results_frame = results_frame.append(temp_results_frame, ignore_index=True)"
   ]
  },
  {
   "cell_type": "code",
   "execution_count": 80,
   "metadata": {
    "ExecuteTime": {
     "end_time": "2019-03-14T15:35:15.931134Z",
     "start_time": "2019-03-14T15:35:15.922882Z"
    },
    "scrolled": true
   },
   "outputs": [
    {
     "data": {
      "text/html": [
       "<div>\n",
       "<style scoped>\n",
       "    .dataframe tbody tr th:only-of-type {\n",
       "        vertical-align: middle;\n",
       "    }\n",
       "\n",
       "    .dataframe tbody tr th {\n",
       "        vertical-align: top;\n",
       "    }\n",
       "\n",
       "    .dataframe thead th {\n",
       "        text-align: right;\n",
       "    }\n",
       "</style>\n",
       "<table border=\"1\" class=\"dataframe\">\n",
       "  <thead>\n",
       "    <tr style=\"text-align: right;\">\n",
       "      <th></th>\n",
       "      <th>store</th>\n",
       "      <th>r_squared</th>\n",
       "      <th>observations</th>\n",
       "      <th>cor_ft_instore</th>\n",
       "    </tr>\n",
       "  </thead>\n",
       "  <tbody>\n",
       "    <tr>\n",
       "      <th>0</th>\n",
       "      <td>67</td>\n",
       "      <td>0.563233</td>\n",
       "      <td>484.0</td>\n",
       "      <td>0.027028</td>\n",
       "    </tr>\n",
       "    <tr>\n",
       "      <th>1</th>\n",
       "      <td>71</td>\n",
       "      <td>0.445994</td>\n",
       "      <td>484.0</td>\n",
       "      <td>-0.002420</td>\n",
       "    </tr>\n",
       "    <tr>\n",
       "      <th>2</th>\n",
       "      <td>342</td>\n",
       "      <td>0.552872</td>\n",
       "      <td>460.0</td>\n",
       "      <td>0.206842</td>\n",
       "    </tr>\n",
       "    <tr>\n",
       "      <th>3</th>\n",
       "      <td>456</td>\n",
       "      <td>0.563143</td>\n",
       "      <td>484.0</td>\n",
       "      <td>0.148436</td>\n",
       "    </tr>\n",
       "    <tr>\n",
       "      <th>4</th>\n",
       "      <td>536</td>\n",
       "      <td>0.408642</td>\n",
       "      <td>484.0</td>\n",
       "      <td>0.000726</td>\n",
       "    </tr>\n",
       "    <tr>\n",
       "      <th>5</th>\n",
       "      <td>583</td>\n",
       "      <td>0.524516</td>\n",
       "      <td>484.0</td>\n",
       "      <td>0.124701</td>\n",
       "    </tr>\n",
       "    <tr>\n",
       "      <th>6</th>\n",
       "      <td>689</td>\n",
       "      <td>0.388019</td>\n",
       "      <td>484.0</td>\n",
       "      <td>0.159818</td>\n",
       "    </tr>\n",
       "    <tr>\n",
       "      <th>7</th>\n",
       "      <td>763</td>\n",
       "      <td>0.409888</td>\n",
       "      <td>484.0</td>\n",
       "      <td>0.068902</td>\n",
       "    </tr>\n",
       "    <tr>\n",
       "      <th>8</th>\n",
       "      <td>828</td>\n",
       "      <td>0.406172</td>\n",
       "      <td>484.0</td>\n",
       "      <td>0.005383</td>\n",
       "    </tr>\n",
       "    <tr>\n",
       "      <th>9</th>\n",
       "      <td>833</td>\n",
       "      <td>0.312038</td>\n",
       "      <td>484.0</td>\n",
       "      <td>0.015030</td>\n",
       "    </tr>\n",
       "    <tr>\n",
       "      <th>10</th>\n",
       "      <td>861</td>\n",
       "      <td>0.351081</td>\n",
       "      <td>484.0</td>\n",
       "      <td>0.031274</td>\n",
       "    </tr>\n",
       "    <tr>\n",
       "      <th>11</th>\n",
       "      <td>517</td>\n",
       "      <td>0.379681</td>\n",
       "      <td>436.0</td>\n",
       "      <td>0.053017</td>\n",
       "    </tr>\n",
       "    <tr>\n",
       "      <th>12</th>\n",
       "      <td>784</td>\n",
       "      <td>0.434118</td>\n",
       "      <td>436.0</td>\n",
       "      <td>0.221619</td>\n",
       "    </tr>\n",
       "  </tbody>\n",
       "</table>\n",
       "</div>"
      ],
      "text/plain": [
       "    store  r_squared  observations  cor_ft_instore\n",
       "0      67   0.563233         484.0        0.027028\n",
       "1      71   0.445994         484.0       -0.002420\n",
       "2     342   0.552872         460.0        0.206842\n",
       "3     456   0.563143         484.0        0.148436\n",
       "4     536   0.408642         484.0        0.000726\n",
       "5     583   0.524516         484.0        0.124701\n",
       "6     689   0.388019         484.0        0.159818\n",
       "7     763   0.409888         484.0        0.068902\n",
       "8     828   0.406172         484.0        0.005383\n",
       "9     833   0.312038         484.0        0.015030\n",
       "10    861   0.351081         484.0        0.031274\n",
       "11    517   0.379681         436.0        0.053017\n",
       "12    784   0.434118         436.0        0.221619"
      ]
     },
     "execution_count": 80,
     "metadata": {},
     "output_type": "execute_result"
    }
   ],
   "source": [
    "results_frame"
   ]
  },
  {
   "cell_type": "code",
   "execution_count": 77,
   "metadata": {
    "ExecuteTime": {
     "end_time": "2019-03-14T15:34:22.917486Z",
     "start_time": "2019-03-14T15:34:22.754653Z"
    },
    "scrolled": false
   },
   "outputs": [
    {
     "data": {
      "text/plain": [
       "Text(0.5,1,'Histogram of R-Squared of Regressions of $ to Employees In Store')"
      ]
     },
     "execution_count": 77,
     "metadata": {},
     "output_type": "execute_result"
    },
    {
     "data": {
      "image/png": "[encoded data removed]",
      "text/plain": [
       "<Figure size 432x288 with 1 Axes>"
      ]
     },
     "metadata": {},
     "output_type": "display_data"
    }
   ],
   "source": [
    "plt.hist(results_frame['r_squared'])\n",
    "plt.title('Histogram of R-Squared of Regressions of $ to Employees In Store')"
   ]
  },
  {
   "cell_type": "code",
   "execution_count": 248,
   "metadata": {
    "ExecuteTime": {
     "end_time": "2019-03-15T15:09:01.622182Z",
     "start_time": "2019-03-15T15:09:01.474903Z"
    }
   },
   "outputs": [
    {
     "data": {
      "text/plain": [
       "Text(0.5,1,'Histogram of 15 Minute Customer to Employee Ratios Avergaged by Store and Day/Hour')"
      ]
     },
     "execution_count": 248,
     "metadata": {},
     "output_type": "execute_result"
    },
    {
     "data": {
      "image/png": "[encoded data removed]",
      "text/plain": [
       "<Figure size 432x288 with 1 Axes>"
      ]
     },
     "metadata": {},
     "output_type": "display_data"
    }
   ],
   "source": [
    "plt.hist((final_frame['cust_to_emp'].groupby([final_frame['store_no'], final_frame['traffic_from'].dt.dayofweek, final_frame['traffic_until'].dt.hour]).mean()))\n",
    "plt.title('Histogram of 15 Minute Customer to Employee Ratios Avergaged by Store and Day/Hour')\n",
    "\n",
    "\n"
   ]
  },
  {
   "cell_type": "code",
   "execution_count": 91,
   "metadata": {
    "ExecuteTime": {
     "end_time": "2019-03-14T15:40:17.660278Z",
     "start_time": "2019-03-14T15:40:17.646430Z"
    },
    "scrolled": true
   },
   "outputs": [],
   "source": [
    "#Let's look at foot traffic out for our stores by day and horu\n",
    "tempFrame = final_frame['traffic_out'].groupby([final_frame['store_no'], final_frame['traffic_from'].dt.dayofweek, final_frame['traffic_until'].dt.hour]).mean()\n",
    "tempFrame = tempFrame.to_frame()\n",
    "tempFrame.reset_index(inplace=True)\n",
    "#tempFrame = tempFrame.pivot(index='store_no',columns='traffic_until', values=0)"
   ]
  },
  {
   "cell_type": "code",
   "execution_count": 190,
   "metadata": {
    "ExecuteTime": {
     "end_time": "2019-03-14T19:28:24.819575Z",
     "start_time": "2019-03-14T19:28:24.782635Z"
    },
    "scrolled": true
   },
   "outputs": [
    {
     "name": "stderr",
     "output_type": "stream",
     "text": [
      "/anaconda3/lib/python3.6/site-packages/ipykernel_launcher.py:2: FutureWarning: using a dict on a Series for aggregation\n",
      "is deprecated and will be removed in a future version\n",
      "  \n"
     ]
    }
   ],
   "source": [
    "#Let's look at sales percentages \n",
    "tempFrame = final_frame['total_amount'].groupby([final_frame['store_no'], final_frame['traffic_from'].dt.dayofweek, final_frame['traffic_until'].dt.hour]).agg({'sales': 'sum'})\n",
    "#tempFrame.reset_index(inplace=True)\n",
    "# Change: groupby state_office and divide by sum\n",
    "#tempFrame_pcts = tempFrame.groupby(level=0).apply(lambda x:\n",
    "#                                                100 * x / float(x.sum()))\n",
    "#tempFrame_pcts.reset_index(inplace=True)"
   ]
  },
  {
   "cell_type": "code",
   "execution_count": 198,
   "metadata": {
    "ExecuteTime": {
     "end_time": "2019-03-14T19:58:46.437386Z",
     "start_time": "2019-03-14T19:58:46.415001Z"
    }
   },
   "outputs": [],
   "source": [
    "#Let's look at hourly sales for our stores  by day and hour \n",
    "\n",
    "#Let's look at foot traffic out for our stores by day and horu\n",
    "tempFrame = final_frame['In_Store'].groupby([final_frame['store_no'], final_frame['traffic_from'].dt.dayofweek, final_frame['traffic_until'].dt.hour]).mean()\n",
    "tempFrame = tempFrame.to_frame()\n",
    "tempFrame.reset_index(inplace=True)\n",
    "#tempFrame = tempFrame.pivot(index='store_no',columns='traffic_until', values=0)"
   ]
  },
  {
   "cell_type": "code",
   "execution_count": 225,
   "metadata": {
    "ExecuteTime": {
     "end_time": "2019-03-14T21:08:45.162368Z",
     "start_time": "2019-03-14T21:08:45.146929Z"
    }
   },
   "outputs": [],
   "source": [
    "#Let's look at hourly customer to employee ratios \n",
    "\n",
    "#Let's look at foot traffic out for our stores by day and horu\n",
    "tempFrame = final_frame['cust_to_emp'].groupby([final_frame['store_no'], final_frame['traffic_from'].dt.dayofweek, final_frame['traffic_until'].dt.hour]).mean()\n",
    "tempFrame = tempFrame.to_frame()\n",
    "tempFrame.reset_index(inplace=True)\n",
    "#tempFrame = tempFrame.pivot(index='store_no',columns='traffic_until', values=0)"
   ]
  },
  {
   "cell_type": "code",
   "execution_count": null,
   "metadata": {
    "ExecuteTime": {
     "end_time": "2019-02-28T18:10:40.006454Z",
     "start_time": "2019-02-28T18:10:39.999739Z"
    }
   },
   "outputs": [],
   "source": [
    "tempFrame = final_frame[final_frame['store_no']==28] #subset by day \n",
    "tempFrame = tempFrame[tempFrame['weekend']==True]\n",
    "    \n",
    "\n",
    "x = tempFrame['total_amount'].groupby([tempFrame['In_Store'], tempFrame['traffic_out']]).agg({'mean':'mean','count':'count'})\n",
    "\n",
    "x.reset_index().to_clipboard()\n",
    "\n",
    "tempFrame['In_Store'].groupby(tempFrame['traffic_until'].dt.hour)\n",
    "\n",
    "plt.scatter(x=tempFrame['In_Store'].groupby(tempFrame['traffic_until'].dt.hour).mean(),\n",
    "            y = tempFrame['total_amount'].groupby(tempFrame['traffic_until'].dt.hour).mean())\n",
    "#plt.scatter(x=tempFrame['traffic_out'].groupby(tempFrame['traffic_until'].dt.hour).mean(),\n",
    " #           y = tempFrame['total_amount'].groupby(tempFrame['traffic_until'].dt.hour).mean())#"
   ]
  },
  {
   "cell_type": "code",
   "execution_count": null,
   "metadata": {
    "ExecuteTime": {
     "end_time": "2019-02-28T18:21:45.093730Z",
     "start_time": "2019-02-28T18:21:44.992843Z"
    }
   },
   "outputs": [],
   "source": [
    "plt.scatter(x=tempFrame['In_Store'].groupby(tempFrame['traffic_until'].dt.hour).mean(),\n",
    "            y = tempFrame['total_amount'].groupby(tempFrame['traffic_until'].dt.hour).mean())\n",
    "#plt.scatter(x=tempFrame['traffic_out'].groupby(tempFrame['traffic_until'].dt.hour).mean(),\n",
    " #           y = tempFrame['total_amount'].groupby(tempFrame['traffic_until'].dt.hour).mean())#"
   ]
  },
  {
   "cell_type": "code",
   "execution_count": null,
   "metadata": {
    "ExecuteTime": {
     "end_time": "2019-02-28T17:15:29.245944Z",
     "start_time": "2019-02-28T17:15:29.116209Z"
    }
   },
   "outputs": [],
   "source": [
    "plt.hist(tempFrame['traffic_out'].groupby([tempFrame['store_no'], tempFrame['traffic_until'].dt.day]).sum())"
   ]
  },
  {
   "cell_type": "markdown",
   "metadata": {},
   "source": [
    "# Rolling Averages"
   ]
  },
  {
   "cell_type": "code",
   "execution_count": 51,
   "metadata": {
    "ExecuteTime": {
     "end_time": "2019-03-14T15:22:42.354086Z",
     "start_time": "2019-03-14T15:22:36.223374Z"
    },
    "scrolled": true
   },
   "outputs": [
    {
     "name": "stdout",
     "output_type": "stream",
     "text": [
      "60\n",
      "18\n",
      "28\n"
     ]
    },
    {
     "name": "stderr",
     "output_type": "stream",
     "text": [
      "/anaconda3/lib/python3.6/site-packages/ipykernel_launcher.py:8: SettingWithCopyWarning: \n",
      "A value is trying to be set on a copy of a slice from a DataFrame\n",
      "\n",
      "See the caveats in the documentation: http://pandas.pydata.org/pandas-docs/stable/indexing.html#indexing-view-versus-copy\n",
      "  \n"
     ]
    },
    {
     "name": "stdout",
     "output_type": "stream",
     "text": [
      "30\n",
      "40\n",
      "47\n",
      "67\n",
      "69\n",
      "71\n",
      "120\n",
      "136\n",
      "144\n",
      "147\n",
      "167\n",
      "187\n",
      "192\n",
      "210\n",
      "214\n",
      "229\n",
      "242\n",
      "275\n",
      "297\n",
      "301\n",
      "309\n",
      "312\n",
      "315\n",
      "319\n",
      "323\n",
      "342\n",
      "350\n",
      "355\n",
      "357\n",
      "359\n",
      "388\n",
      "397\n",
      "442\n",
      "444\n",
      "450\n",
      "452\n",
      "453\n",
      "456\n",
      "466\n",
      "488\n",
      "511\n",
      "528\n",
      "536\n",
      "554\n",
      "559\n",
      "571\n",
      "573\n",
      "583\n",
      "597\n",
      "598\n",
      "607\n",
      "616\n",
      "617\n",
      "623\n",
      "633\n",
      "679\n",
      "689\n",
      "703\n",
      "710\n",
      "763\n",
      "777\n",
      "823\n",
      "828\n",
      "833\n",
      "861\n",
      "1003\n",
      "1013\n",
      "189\n",
      "201\n",
      "314\n",
      "507\n",
      "517\n",
      "612\n",
      "712\n",
      "784\n",
      "868\n"
     ]
    }
   ],
   "source": [
    "# Lets get rolling 4 hour windows of average and total customers \n",
    "\n",
    "fourHourFrame =pd.DataFrame()\n",
    "for i in list(final_frame['store_no'].unique()):\n",
    "    print(i)\n",
    "    tempFrame = final_frame[final_frame['store_no']==i]\n",
    "    tempFrame.set_index('traffic_until', inplace=True)\n",
    "    tempFrame.sort_index(inplace=True)\n",
    "    #tempFrame.reset_index(inplace=True)\n",
    "    tempFrame= tempFrame[['traffic_out', 'In_Store', 'conv_rate']]\n",
    "    tempFrame = tempFrame.rolling('4H', min_periods=16).mean().dropna()\n",
    "    newColumnName= 'store_'+str(i)\n",
    "    tempFrame['store_no']=i\n",
    "    fourHourFrame = fourHourFrame.append(tempFrame)\n"
   ]
  },
  {
   "cell_type": "code",
   "execution_count": null,
   "metadata": {
    "ExecuteTime": {
     "end_time": "2019-03-07T17:22:18.846809Z",
     "start_time": "2019-03-07T17:22:18.781527Z"
    },
    "scrolled": true
   },
   "outputs": [],
   "source": [
    "tempFrame = fourHourFrame['conv_rate'].groupby([fourHourFrame.index.dayofweek, fourHourFrame['store_no'], \n",
    "                                                   fourHourFrame['traffic_out'], fourHourFrame['In_Store']]).mean()\n"
   ]
  },
  {
   "cell_type": "code",
   "execution_count": null,
   "metadata": {
    "ExecuteTime": {
     "end_time": "2019-03-07T17:22:24.641255Z",
     "start_time": "2019-03-07T17:22:24.624000Z"
    },
    "scrolled": false
   },
   "outputs": [],
   "source": [
    "tempFrame = tempFrame.to_frame()"
   ]
  },
  {
   "cell_type": "code",
   "execution_count": null,
   "metadata": {
    "ExecuteTime": {
     "end_time": "2019-03-06T19:44:10.476136Z",
     "start_time": "2019-03-06T19:44:07.223011Z"
    }
   },
   "outputs": [],
   "source": [
    "for i,j in [[3,2], [4,2], [4,3], [5,2],[5,2], [6,2], [6,3], [7,2], [7,3]]:\n",
    "    name = 'traffic_out_'+str(i)+'_instore_'+str(j)+'.csv'\n",
    "    print(name)\n",
    "    tempFrame = fourHourFrame.groupby([fourHourFrame.index.dayofweek, fourHourFrame['store_no']]).apply(lambda x: ((x.traffic_out>i) & (x.In_Store<j)).sum()/len(x)).to_frame()\n",
    "    tempFrame.reset_index(inplace=True)\n",
    "    tempFrame = tempFrame.pivot(index='store_no',columns='traffic_until', values=0)\n",
    "    tempFrame.to_csv('/Users/sanjaygopinath/Documents/Data/foot_traffic_project/4_Hour_Window_Data/'+name)"
   ]
  },
  {
   "cell_type": "code",
   "execution_count": null,
   "metadata": {
    "ExecuteTime": {
     "end_time": "2019-03-07T18:23:16.660270Z",
     "start_time": "2019-03-07T18:23:16.547507Z"
    }
   },
   "outputs": [],
   "source": [
    "for i,j in [[3,2], [4,2], [4,3], [5,2],[5,2], [6,2], [6,3], [7,2], [7,3]]:\n",
    "    name = 'conv_traffic_out_'+str(i)+'_instore_'+str(j)+'.csv'\n",
    "    print(name)\n",
    "    tempFrame = fourHourFrame[(fourHourFrame['traffic_out']>i) & (fourHourFrame['In_Store']<j)]\n",
    "    print(tempFrame.shape)\n",
    "    tempFrame = tempFrame['conv_rate'].groupby([tempFrame.index.dayofweek, tempFrame['store_no']]).mean()\n",
    "    tempFrame = tempFrame.to_frame()\n",
    "    tempFrame.reset_index(inplace=True)\n",
    "    tempFrame = tempFrame.pivot(index='store_no',columns='traffic_until', values='conv_rate')\n",
    "    tempFrame.to_csv('/Users/sanjaygopinath/Documents/Data/foot_traffic_project/4_Hour_Window_Data/'+name)"
   ]
  },
  {
   "cell_type": "markdown",
   "metadata": {},
   "source": [
    "# Done with 4 hour averages"
   ]
  },
  {
   "cell_type": "code",
   "execution_count": null,
   "metadata": {
    "ExecuteTime": {
     "end_time": "2019-03-11T17:25:28.534987Z",
     "start_time": "2019-03-11T17:25:25.071737Z"
    }
   },
   "outputs": [],
   "source": [
    "#Percentage of time a store has more than X people leaving the store and fewer than Y employees per day \n",
    "for i,j in [[3,2], [4,2], [4,3], [5,2],[5,2], [6,2], [6,3], [7,2], [7,3]]:\n",
    "    name = 'day_traffic_out_'+str(i)+'_instore_'+str(j)+'.csv'\n",
    "    print(name)\n",
    "    tempFrame = final_frame.groupby([final_frame.index.dayofweek, final_frame['store_no']]).apply(lambda x: ((x.traffic_out>i) & (x.In_Store<j)).sum()/len(x)).to_frame()\n",
    "    tempFrame.reset_index(inplace=True)\n",
    "    tempFrame = tempFrame.pivot(index='store_no',columns='traffic_until', values=0)\n",
    "    tempFrame.to_csv('/Users/sanjaygopinath/Documents/Data/foot_traffic_project/'+name)"
   ]
  },
  {
   "cell_type": "code",
   "execution_count": null,
   "metadata": {
    "ExecuteTime": {
     "end_time": "2019-03-11T17:33:51.637145Z",
     "start_time": "2019-03-11T17:33:51.038698Z"
    }
   },
   "outputs": [],
   "source": [
    "#Percentage of time a store has more than X people leaving the store and fewer than Y employees (without days)\n",
    "for i,j in [[3,2], [4,2], [4,3], [5,2],[5,2], [6,2], [6,3], [7,2], [7,3]]:\n",
    "    name = 'traffic_out_'+str(i)+'_instore_'+str(j)+'.csv'\n",
    "    print(name)\n",
    "    tempFrame = final_frame.groupby([final_frame['store_no']]).apply(lambda x: ((x.traffic_out>i) & (x.In_Store<j)).sum()/len(x)).to_frame()\n",
    "    tempFrame.reset_index(inplace=True)\n",
    "    #tempFrame = tempFrame.pivot(index='store_no',columns='traffic_until', values=0)\n",
    "    tempFrame.to_csv('/Users/sanjaygopinath/Documents/Data/foot_traffic_project/'+name)"
   ]
  },
  {
   "cell_type": "code",
   "execution_count": null,
   "metadata": {
    "ExecuteTime": {
     "end_time": "2019-03-11T17:13:15.735271Z",
     "start_time": "2019-03-11T17:13:15.013102Z"
    }
   },
   "outputs": [],
   "source": [
    "#Percentage of time a store has more than X people leaving the store and fewer than Y employees (without days)\n",
    "for i,j in [[2,2], [3,2], [4,2], [4,3], [5,2],[5,2], [6,2], [6,3], [7,2], [7,3]]:\n",
    "    name = 'INV_traffic_out_'+str(i)+'_instore_'+str(j)+'.csv'\n",
    "    print(name)\n",
    "    tempFrame = final_frame.groupby([final_frame['store_no']]).apply(lambda x: ((x.traffic_out<i) & (x.In_Store>j)).sum()/len(x)).to_frame()\n",
    "    tempFrame.reset_index(inplace=True)\n",
    "    #tempFrame = tempFrame.pivot(index='store_no',columns='traffic_until', values=0)\n",
    "    tempFrame.to_csv('/Users/sanjaygopinath/Documents/Data/foot_traffic_project/'+name)"
   ]
  },
  {
   "cell_type": "code",
   "execution_count": null,
   "metadata": {
    "ExecuteTime": {
     "end_time": "2019-03-12T00:20:59.674780Z",
     "start_time": "2019-03-12T00:20:59.521198Z"
    },
    "scrolled": true
   },
   "outputs": [],
   "source": [
    "#Mean Conversion rates for each store subset on more than X people leaving the store and fewer than Y employees \n",
    "for i,j in [[3,2], [4,2], [4,3], [5,2],[5,2], [6,2], [6,3], [7,2], [7,3]]:\n",
    "    name = 'conv_traffic_out_'+str(i)+'_instore_'+str(j)+'.csv'\n",
    "    print(name)\n",
    "    tempFrame = final_frame[(final_frame['traffic_out']>i) & (final_frame['In_Store']<j)]\n",
    "    print(tempFrame.shape)\n",
    "    tempFrame = tempFrame['conv_rate'].groupby([tempFrame.index.dayofweek, tempFrame['store_no']]).mean()\n",
    "    tempFrame = tempFrame.to_frame()\n",
    "    tempFrame.reset_index(inplace=True)\n",
    "    tempFrame = tempFrame.pivot(index='store_no',columns='traffic_until', values='conv_rate')\n",
    "    tempFrame.to_csv('/Users/sanjaygopinath/Documents/Data/foot_traffic_project/'+name)"
   ]
  },
  {
   "cell_type": "code",
   "execution_count": null,
   "metadata": {
    "ExecuteTime": {
     "end_time": "2019-03-07T20:08:39.418698Z",
     "start_time": "2019-03-07T20:08:39.401528Z"
    }
   },
   "outputs": [],
   "source": [
    "x = final_frame.conv_rate.values #returns a numpy array\n",
    "min_max_scaler = preprocessing.MinMaxScaler()\n",
    "x_scaled = min_max_scaler.fit_transform(x)\n",
    "df = pandas.DataFrame(x_scaled)\n",
    "\n",
    "\n"
   ]
  },
  {
   "cell_type": "code",
   "execution_count": null,
   "metadata": {
    "ExecuteTime": {
     "end_time": "2019-03-07T20:15:12.277920Z",
     "start_time": "2019-03-07T20:15:11.610689Z"
    }
   },
   "outputs": [],
   "source": [
    "tempFrame = final_frame[final_frame.conv_rate < 1]\n",
    "min_max_scaler = preprocessing.MinMaxScaler()\n",
    "x_scaled = min_max_scaler.fit_transform(tempFrame.conv_rate.values.reshape(-1,1))\n",
    "tempFrame['norm_conv_rate'] = x_scaled\n",
    "tempFrame.norm_conv_rate.describe()"
   ]
  },
  {
   "cell_type": "code",
   "execution_count": null,
   "metadata": {
    "ExecuteTime": {
     "end_time": "2019-03-07T20:21:47.226790Z",
     "start_time": "2019-03-07T20:21:47.223670Z"
    }
   },
   "outputs": [],
   "source": [
    "def tempFunction(x): \n",
    "    if x > 1:\n",
    "        y =1 \n",
    "    else: \n",
    "        y =x \n",
    "    return(y)"
   ]
  },
  {
   "cell_type": "code",
   "execution_count": null,
   "metadata": {
    "ExecuteTime": {
     "end_time": "2019-03-07T20:22:31.241939Z",
     "start_time": "2019-03-07T20:22:31.181634Z"
    }
   },
   "outputs": [],
   "source": [
    "final_frame['ceil_conv_rate'] = final_frame['conv_rate'].apply(lambda x: tempFunction(x) )"
   ]
  },
  {
   "cell_type": "code",
   "execution_count": null,
   "metadata": {
    "ExecuteTime": {
     "end_time": "2019-03-07T21:08:55.948915Z",
     "start_time": "2019-03-07T21:08:55.928756Z"
    },
    "scrolled": true
   },
   "outputs": [],
   "source": [
    "#subtract the mean conversion rate from all the conversion rates \n",
    "#tempFrame = final_frame[final_frame.ceil_conv_rate < 1]\n",
    "scaler = StandardScaler(with_std=False)\n",
    "final_frame['norm_conv_rate'] = scaler.fit_transform(final_frame.conv_rate.values.reshape(-1,1))\n",
    "#final_frame['norm_conv_rate'] = scaler.transform(final_frame.ceil_conv_rate.values.reshape(-1,1))\n",
    "#final_frame.norm_conv_rate.describe()\n",
    "#final_frame['norm_conv_rate'] = final_frame.conv_rate - final_frame.conv_rate.mean()"
   ]
  },
  {
   "cell_type": "code",
   "execution_count": null,
   "metadata": {
    "ExecuteTime": {
     "end_time": "2019-03-10T20:46:19.153870Z",
     "start_time": "2019-03-10T20:46:19.026143Z"
    }
   },
   "outputs": [],
   "source": [
    "#Let's see how our conversion rates look broken down to store level \n",
    "tempFrame = final_frame['conv_rate'].groupby(final_frame['store_no']).mean()\n",
    "plt.scatter(x=tempFrame.index, y = tempFrame.values)"
   ]
  },
  {
   "cell_type": "code",
   "execution_count": null,
   "metadata": {},
   "outputs": [],
   "source": [
    "tempFrame = final_frame['conv_rate'].groupby(final_frame['store_no']).mean()\n"
   ]
  },
  {
   "cell_type": "code",
   "execution_count": null,
   "metadata": {
    "ExecuteTime": {
     "end_time": "2019-03-10T20:52:20.814883Z",
     "start_time": "2019-03-10T20:52:20.807013Z"
    }
   },
   "outputs": [],
   "source": [
    "final_frame['traffic_until2'] = final_frame.index"
   ]
  },
  {
   "cell_type": "code",
   "execution_count": null,
   "metadata": {
    "ExecuteTime": {
     "end_time": "2019-03-10T20:53:20.460392Z",
     "start_time": "2019-03-10T20:53:20.180875Z"
    }
   },
   "outputs": [],
   "source": [
    "final_frame['conv_rate'].groupby([final_frame['store_no'], final_frame.index.dayofweek, final_frame.traffic_until2.dt.hour]).mean().to_frame().reset_index().to_clipboard()\n"
   ]
  },
  {
   "cell_type": "code",
   "execution_count": null,
   "metadata": {
    "ExecuteTime": {
     "end_time": "2019-03-11T13:51:51.145445Z",
     "start_time": "2019-03-11T13:51:51.135314Z"
    },
    "scrolled": true
   },
   "outputs": [],
   "source": [
    "#Create a dictionary of total dollar sales \n",
    "total_dollar_sales = final_frame['total_amount'].groupby([final_frame['store_no']]).sum().to_dict()"
   ]
  },
  {
   "cell_type": "code",
   "execution_count": null,
   "metadata": {
    "ExecuteTime": {
     "end_time": "2019-03-11T14:09:14.405971Z",
     "start_time": "2019-03-11T14:09:14.391280Z"
    }
   },
   "outputs": [],
   "source": [
    "#Create a dictionary of the total hours a store was open \n",
    "total_hours = final_frame['traffic_out'].groupby([final_frame['store_no']]).count().to_dict()"
   ]
  },
  {
   "cell_type": "code",
   "execution_count": null,
   "metadata": {
    "ExecuteTime": {
     "end_time": "2019-03-10T20:51:42.253473Z",
     "start_time": "2019-03-10T20:51:42.205860Z"
    },
    "scrolled": true
   },
   "outputs": [],
   "source": [
    "final_frame"
   ]
  },
  {
   "cell_type": "code",
   "execution_count": null,
   "metadata": {
    "ExecuteTime": {
     "end_time": "2019-03-11T14:10:06.042569Z",
     "start_time": "2019-03-11T14:10:05.680943Z"
    },
    "scrolled": true
   },
   "outputs": [],
   "source": [
    "#Mean Conversion rates for each store subset on more than X people leaving the store and fewer than Y employees \n",
    "\n",
    "\n",
    "for i,j in [[3,2], [4,2], [4,3], [5,2],[5,2], [6,2], [6,3], [7,2], [7,3]]:\n",
    "    name = 'conv_traffic_out_'+str(i)+'_instore_'+str(j)+'.csv'\n",
    "    print(name)\n",
    "    tempFrame = final_frame[(final_frame['traffic_out']>i) & (final_frame['In_Store']<j)]\n",
    "    print(tempFrame.shape)\n",
    "    tempFrame = tempFrame['total_amount'].groupby([tempFrame.index.dayofweek, tempFrame['store_no']]).agg({'sum':'sum', 'count':'count'})\n",
    "    tempFrame.rename(columns={'sum':'total_sales', 'count':'hours'}, inplace=True)\n",
    "    tempFrame.reset_index(inplace=True)\n",
    "    \n",
    "    tempFrame['% sales'] =  tempFrame.apply(lambda x: x.total_sales/(total_dollar_sales.get(x.store_no)), axis=1)\n",
    "    tempFrame['% time'] =  tempFrame.apply(lambda x: x.hours/(total_hours.get(x.store_no)), axis=1)\n",
    "    \n",
    "    #tempFrame = tempFrame.pivot(index='store_no',columns='traffic_until', values='norm_conv_rate')\n",
    "    #tempFrame.to_csv('/Users/sanjaygopinath/Documents/Data/foot_traffic_project/'+name)"
   ]
  },
  {
   "cell_type": "markdown",
   "metadata": {},
   "source": [
    "# Let's do some time series analysis "
   ]
  },
  {
   "cell_type": "code",
   "execution_count": null,
   "metadata": {
    "ExecuteTime": {
     "end_time": "2019-03-11T22:11:16.497386Z",
     "start_time": "2019-03-11T22:11:16.488772Z"
    }
   },
   "outputs": [],
   "source": [
    "final_frame.columns"
   ]
  },
  {
   "cell_type": "code",
   "execution_count": null,
   "metadata": {
    "ExecuteTime": {
     "end_time": "2019-03-11T22:17:00.468978Z",
     "start_time": "2019-03-11T22:16:59.844606Z"
    },
    "scrolled": true
   },
   "outputs": [],
   "source": [
    "for i in range(0,48*4,1):\n",
    "    min = i*15\n",
    "    min = str(min)\n",
    "    print('for an {} minute lag, or {} periods, the autocorrelation is {}'.format(min, i, final_frame.traffic_out.autocorr(lag=i)))"
   ]
  },
  {
   "cell_type": "code",
   "execution_count": null,
   "metadata": {
    "ExecuteTime": {
     "end_time": "2019-03-12T20:11:15.514908Z",
     "start_time": "2019-03-12T20:11:12.883999Z"
    },
    "scrolled": true
   },
   "outputs": [],
   "source": [
    "correlFrame = pd.DataFrame()\n",
    "time_frame = pd.DataFrame()\n",
    "correlList = pd.Series()\n",
    "tempFrame = final_frame[final_frame.store_no==60]\n",
    "for i in range(0,800,1):\n",
    "    min = i*15\n",
    "    min = str(min)\n",
    "    correlFrame = correlFrame.append(pd.Series([tempFrame.total_amount.autocorr(lag=i)]), ignore_index=True)\n",
    "    time_frame = time_frame.append(pd.Series([tempFrame.index[i]]), ignore_index=True)\n",
    "\n",
    "    correlList = correlList.append(pd.Series([tempFrame.total_amount.autocorr(lag=i)]))\n",
    "    #print('for an {} minute lag, or {} periods, the autocorrelation is {}'.format(min, i, tempFrame.traffic_out.autocorr(lag=i)))\n",
    "plt.plot(correlFrame)\n"
   ]
  },
  {
   "cell_type": "markdown",
   "metadata": {},
   "source": [
    "# Trying to establish sample sizes so we can create test and control "
   ]
  },
  {
   "cell_type": "code",
   "execution_count": null,
   "metadata": {
    "ExecuteTime": {
     "end_time": "2019-03-12T22:45:22.754285Z",
     "start_time": "2019-03-12T22:45:22.744783Z"
    }
   },
   "outputs": [],
   "source": [
    "tempFrame = final_frame[final_frame['store_no']== 679] #subset by store \n",
    "tempFrame = tempFrame[tempFrame['day']== 6] #subset by day \n",
    "#tempFrame = final_frame[final_frame.traffic_until.dt.hour.isin([10])] #subset by hour"
   ]
  },
  {
   "cell_type": "code",
   "execution_count": null,
   "metadata": {
    "ExecuteTime": {
     "end_time": "2019-03-12T22:50:10.715930Z",
     "start_time": "2019-03-12T22:50:10.650824Z"
    },
    "scrolled": true
   },
   "outputs": [],
   "source": [
    "tempFrame.sort_values('total_amount', ascending=False)"
   ]
  },
  {
   "cell_type": "code",
   "execution_count": null,
   "metadata": {
    "ExecuteTime": {
     "end_time": "2019-03-13T14:56:32.476570Z",
     "start_time": "2019-03-13T14:56:32.332928Z"
    }
   },
   "outputs": [],
   "source": [
    "#Look at the number of samples \n",
    "fig, ax = plt.subplots()\n",
    "ax.scatter(x = tempFrame.traffic_out, y =tempFrame.total_amount, c=tempFrame.In_Store)\n",
    "fig.legend()\n",
    "\n",
    "\n"
   ]
  },
  {
   "cell_type": "code",
   "execution_count": null,
   "metadata": {
    "ExecuteTime": {
     "end_time": "2019-03-12T15:51:29.819816Z",
     "start_time": "2019-03-12T15:51:29.426670Z"
    },
    "scrolled": true
   },
   "outputs": [],
   "source": [
    "#Let's look at the ratio of time a store is open and the amount of its dollar sales \n",
    "ratioListMoney =list()\n",
    "ratioListTime= list()\n",
    "store_List = list()\n",
    "for i in list(final_frame.store_no.unique()):\n",
    "    tempFrame = final_frame[final_frame['store_no']== i] #subset by store \n",
    "    ratioTime = tempFrame[tempFrame.index.dayofweek == 4].shape[0]/tempFrame.shape[0]\n",
    "    ratioMoney = tempFrame[tempFrame.index.dayofweek == 4]['total_amount'].sum()/tempFrame['total_amount'].sum()\n",
    "    ratioListMoney.insert(i,ratioMoney )\n",
    "    ratioListTime.insert(i,ratioTime )\n",
    "    print(\"sundays account for {} % of the time and {} % sales for store {}\".format(ratioTime, ratioMoney, i))\n",
    "    \n",
    "    \n",
    "#plt.scatter(pltFrame.time, pltFrame.money, )\n",
    "fig, ax = plt.subplots()\n",
    "ax.scatter(y =pltFrame.money, x= pltFrame.time,   cmap=plt.cm.coolwarm, zorder=10)\n",
    "lims = [\n",
    "    np.min([ax.get_xlim(), ax.get_ylim()]),  # min of both axes\n",
    "    np.max([ax.get_xlim(), ax.get_ylim()]),  # max of both axes\n",
    "]\n",
    "\n",
    "# now plot both limits against eachother\n",
    "ax.plot(lims, lims, 'k-', alpha=0.75, zorder=0)\n",
    "ax.set_aspect('equal')\n",
    "ax.set_xlim(lims)\n",
    "ax.set_ylim(lims)"
   ]
  },
  {
   "cell_type": "code",
   "execution_count": null,
   "metadata": {
    "ExecuteTime": {
     "end_time": "2019-03-13T15:50:55.103939Z",
     "start_time": "2019-03-13T15:50:55.089760Z"
    }
   },
   "outputs": [],
   "source": [
    "final_frame.store_no.unique()"
   ]
  },
  {
   "cell_type": "code",
   "execution_count": 174,
   "metadata": {
    "ExecuteTime": {
     "end_time": "2019-03-14T19:15:44.776662Z",
     "start_time": "2019-03-14T19:15:44.767795Z"
    },
    "scrolled": true
   },
   "outputs": [],
   "source": [
    "tempFrame = storeSales_frame[storeSales_frame.transaction_datetime <= traffic_frame.traffic_until.max()]\n",
    "tempFrame = tempFrame[(tempFrame.store_no==71)]"
   ]
  },
  {
   "cell_type": "code",
   "execution_count": 175,
   "metadata": {
    "ExecuteTime": {
     "end_time": "2019-03-14T19:15:45.060164Z",
     "start_time": "2019-03-14T19:15:45.055617Z"
    },
    "scrolled": true
   },
   "outputs": [],
   "source": [
    "tempFrame = tempFrame[tempFrame.transaction_datetime.dt.dayofweek==0]"
   ]
  },
  {
   "cell_type": "code",
   "execution_count": 176,
   "metadata": {
    "ExecuteTime": {
     "end_time": "2019-03-14T19:15:45.360454Z",
     "start_time": "2019-03-14T19:15:45.355377Z"
    }
   },
   "outputs": [
    {
     "data": {
      "text/plain": [
       "20911.68"
      ]
     },
     "execution_count": 176,
     "metadata": {},
     "output_type": "execute_result"
    }
   ],
   "source": [
    "tempFrame.total_amount.sum()"
   ]
  },
  {
   "cell_type": "code",
   "execution_count": 183,
   "metadata": {
    "ExecuteTime": {
     "end_time": "2019-03-14T19:16:35.401154Z",
     "start_time": "2019-03-14T19:16:35.369876Z"
    },
    "scrolled": true
   },
   "outputs": [
    {
     "data": {
      "text/html": [
       "<div>\n",
       "<style scoped>\n",
       "    .dataframe tbody tr th:only-of-type {\n",
       "        vertical-align: middle;\n",
       "    }\n",
       "\n",
       "    .dataframe tbody tr th {\n",
       "        vertical-align: top;\n",
       "    }\n",
       "\n",
       "    .dataframe thead th {\n",
       "        text-align: right;\n",
       "    }\n",
       "</style>\n",
       "<table border=\"1\" class=\"dataframe\">\n",
       "  <thead>\n",
       "    <tr style=\"text-align: right;\">\n",
       "      <th></th>\n",
       "      <th>transaction_datetime</th>\n",
       "      <th>store_no</th>\n",
       "      <th>transaction_count</th>\n",
       "      <th>total_amount</th>\n",
       "      <th>AOV5min</th>\n",
       "    </tr>\n",
       "  </thead>\n",
       "  <tbody>\n",
       "    <tr>\n",
       "      <th>18460</th>\n",
       "      <td>2018-12-31 09:00:00</td>\n",
       "      <td>71</td>\n",
       "      <td>1</td>\n",
       "      <td>3.29</td>\n",
       "      <td>3.290000</td>\n",
       "    </tr>\n",
       "    <tr>\n",
       "      <th>18461</th>\n",
       "      <td>2018-12-31 09:15:00</td>\n",
       "      <td>71</td>\n",
       "      <td>2</td>\n",
       "      <td>27.16</td>\n",
       "      <td>13.580000</td>\n",
       "    </tr>\n",
       "    <tr>\n",
       "      <th>18462</th>\n",
       "      <td>2018-12-31 10:00:00</td>\n",
       "      <td>71</td>\n",
       "      <td>1</td>\n",
       "      <td>16.99</td>\n",
       "      <td>16.990000</td>\n",
       "    </tr>\n",
       "    <tr>\n",
       "      <th>18463</th>\n",
       "      <td>2018-12-31 10:15:00</td>\n",
       "      <td>71</td>\n",
       "      <td>3</td>\n",
       "      <td>20.37</td>\n",
       "      <td>6.790000</td>\n",
       "    </tr>\n",
       "    <tr>\n",
       "      <th>18464</th>\n",
       "      <td>2018-12-31 10:30:00</td>\n",
       "      <td>71</td>\n",
       "      <td>2</td>\n",
       "      <td>63.97</td>\n",
       "      <td>31.985000</td>\n",
       "    </tr>\n",
       "    <tr>\n",
       "      <th>18465</th>\n",
       "      <td>2018-12-31 10:45:00</td>\n",
       "      <td>71</td>\n",
       "      <td>2</td>\n",
       "      <td>7.97</td>\n",
       "      <td>3.985000</td>\n",
       "    </tr>\n",
       "    <tr>\n",
       "      <th>18466</th>\n",
       "      <td>2018-12-31 11:00:00</td>\n",
       "      <td>71</td>\n",
       "      <td>6</td>\n",
       "      <td>116.12</td>\n",
       "      <td>19.353333</td>\n",
       "    </tr>\n",
       "    <tr>\n",
       "      <th>18467</th>\n",
       "      <td>2018-12-31 11:15:00</td>\n",
       "      <td>71</td>\n",
       "      <td>2</td>\n",
       "      <td>29.36</td>\n",
       "      <td>14.680000</td>\n",
       "    </tr>\n",
       "    <tr>\n",
       "      <th>18468</th>\n",
       "      <td>2018-12-31 11:30:00</td>\n",
       "      <td>71</td>\n",
       "      <td>1</td>\n",
       "      <td>28.27</td>\n",
       "      <td>28.270000</td>\n",
       "    </tr>\n",
       "    <tr>\n",
       "      <th>18469</th>\n",
       "      <td>2018-12-31 12:00:00</td>\n",
       "      <td>71</td>\n",
       "      <td>3</td>\n",
       "      <td>150.73</td>\n",
       "      <td>50.243333</td>\n",
       "    </tr>\n",
       "    <tr>\n",
       "      <th>18470</th>\n",
       "      <td>2018-12-31 12:15:00</td>\n",
       "      <td>71</td>\n",
       "      <td>3</td>\n",
       "      <td>84.25</td>\n",
       "      <td>28.083333</td>\n",
       "    </tr>\n",
       "    <tr>\n",
       "      <th>18471</th>\n",
       "      <td>2018-12-31 12:30:00</td>\n",
       "      <td>71</td>\n",
       "      <td>3</td>\n",
       "      <td>43.76</td>\n",
       "      <td>14.586666</td>\n",
       "    </tr>\n",
       "    <tr>\n",
       "      <th>18472</th>\n",
       "      <td>2018-12-31 12:45:00</td>\n",
       "      <td>71</td>\n",
       "      <td>1</td>\n",
       "      <td>36.37</td>\n",
       "      <td>36.370000</td>\n",
       "    </tr>\n",
       "    <tr>\n",
       "      <th>18473</th>\n",
       "      <td>2018-12-31 13:00:00</td>\n",
       "      <td>71</td>\n",
       "      <td>1</td>\n",
       "      <td>61.97</td>\n",
       "      <td>61.970000</td>\n",
       "    </tr>\n",
       "    <tr>\n",
       "      <th>18474</th>\n",
       "      <td>2018-12-31 13:15:00</td>\n",
       "      <td>71</td>\n",
       "      <td>1</td>\n",
       "      <td>76.94</td>\n",
       "      <td>76.940000</td>\n",
       "    </tr>\n",
       "    <tr>\n",
       "      <th>18475</th>\n",
       "      <td>2018-12-31 13:30:00</td>\n",
       "      <td>71</td>\n",
       "      <td>5</td>\n",
       "      <td>160.42</td>\n",
       "      <td>32.084000</td>\n",
       "    </tr>\n",
       "    <tr>\n",
       "      <th>18476</th>\n",
       "      <td>2018-12-31 13:45:00</td>\n",
       "      <td>71</td>\n",
       "      <td>3</td>\n",
       "      <td>55.15</td>\n",
       "      <td>18.383333</td>\n",
       "    </tr>\n",
       "    <tr>\n",
       "      <th>18477</th>\n",
       "      <td>2018-12-31 14:00:00</td>\n",
       "      <td>71</td>\n",
       "      <td>6</td>\n",
       "      <td>93.82</td>\n",
       "      <td>15.636666</td>\n",
       "    </tr>\n",
       "    <tr>\n",
       "      <th>18478</th>\n",
       "      <td>2018-12-31 14:15:00</td>\n",
       "      <td>71</td>\n",
       "      <td>6</td>\n",
       "      <td>186.70</td>\n",
       "      <td>31.116666</td>\n",
       "    </tr>\n",
       "    <tr>\n",
       "      <th>18479</th>\n",
       "      <td>2018-12-31 14:30:00</td>\n",
       "      <td>71</td>\n",
       "      <td>5</td>\n",
       "      <td>238.87</td>\n",
       "      <td>47.774000</td>\n",
       "    </tr>\n",
       "    <tr>\n",
       "      <th>18480</th>\n",
       "      <td>2018-12-31 14:45:00</td>\n",
       "      <td>71</td>\n",
       "      <td>5</td>\n",
       "      <td>258.90</td>\n",
       "      <td>51.780000</td>\n",
       "    </tr>\n",
       "    <tr>\n",
       "      <th>18481</th>\n",
       "      <td>2018-12-31 15:00:00</td>\n",
       "      <td>71</td>\n",
       "      <td>1</td>\n",
       "      <td>69.05</td>\n",
       "      <td>69.050000</td>\n",
       "    </tr>\n",
       "    <tr>\n",
       "      <th>18482</th>\n",
       "      <td>2018-12-31 15:15:00</td>\n",
       "      <td>71</td>\n",
       "      <td>4</td>\n",
       "      <td>76.88</td>\n",
       "      <td>19.220000</td>\n",
       "    </tr>\n",
       "    <tr>\n",
       "      <th>18483</th>\n",
       "      <td>2018-12-31 16:15:00</td>\n",
       "      <td>71</td>\n",
       "      <td>1</td>\n",
       "      <td>14.44</td>\n",
       "      <td>14.440000</td>\n",
       "    </tr>\n",
       "    <tr>\n",
       "      <th>18484</th>\n",
       "      <td>2018-12-31 16:30:00</td>\n",
       "      <td>71</td>\n",
       "      <td>3</td>\n",
       "      <td>27.31</td>\n",
       "      <td>9.103333</td>\n",
       "    </tr>\n",
       "    <tr>\n",
       "      <th>18485</th>\n",
       "      <td>2018-12-31 17:00:00</td>\n",
       "      <td>71</td>\n",
       "      <td>2</td>\n",
       "      <td>115.16</td>\n",
       "      <td>57.580000</td>\n",
       "    </tr>\n",
       "    <tr>\n",
       "      <th>18486</th>\n",
       "      <td>2018-12-31 17:45:00</td>\n",
       "      <td>71</td>\n",
       "      <td>3</td>\n",
       "      <td>190.89</td>\n",
       "      <td>63.630000</td>\n",
       "    </tr>\n",
       "    <tr>\n",
       "      <th>18487</th>\n",
       "      <td>2018-12-31 18:00:00</td>\n",
       "      <td>71</td>\n",
       "      <td>1</td>\n",
       "      <td>29.99</td>\n",
       "      <td>29.990000</td>\n",
       "    </tr>\n",
       "    <tr>\n",
       "      <th>18488</th>\n",
       "      <td>2018-12-31 18:45:00</td>\n",
       "      <td>71</td>\n",
       "      <td>1</td>\n",
       "      <td>20.97</td>\n",
       "      <td>20.970000</td>\n",
       "    </tr>\n",
       "    <tr>\n",
       "      <th>18708</th>\n",
       "      <td>2019-01-07 06:30:00</td>\n",
       "      <td>71</td>\n",
       "      <td>1</td>\n",
       "      <td>3.19</td>\n",
       "      <td>3.190000</td>\n",
       "    </tr>\n",
       "    <tr>\n",
       "      <th>...</th>\n",
       "      <td>...</td>\n",
       "      <td>...</td>\n",
       "      <td>...</td>\n",
       "      <td>...</td>\n",
       "      <td>...</td>\n",
       "    </tr>\n",
       "    <tr>\n",
       "      <th>19780</th>\n",
       "      <td>2019-02-04 12:15:00</td>\n",
       "      <td>71</td>\n",
       "      <td>4</td>\n",
       "      <td>167.91</td>\n",
       "      <td>41.977500</td>\n",
       "    </tr>\n",
       "    <tr>\n",
       "      <th>19781</th>\n",
       "      <td>2019-02-04 12:30:00</td>\n",
       "      <td>71</td>\n",
       "      <td>2</td>\n",
       "      <td>74.12</td>\n",
       "      <td>37.060000</td>\n",
       "    </tr>\n",
       "    <tr>\n",
       "      <th>19782</th>\n",
       "      <td>2019-02-04 13:00:00</td>\n",
       "      <td>71</td>\n",
       "      <td>2</td>\n",
       "      <td>42.07</td>\n",
       "      <td>21.035000</td>\n",
       "    </tr>\n",
       "    <tr>\n",
       "      <th>19783</th>\n",
       "      <td>2019-02-04 13:15:00</td>\n",
       "      <td>71</td>\n",
       "      <td>2</td>\n",
       "      <td>136.42</td>\n",
       "      <td>68.210000</td>\n",
       "    </tr>\n",
       "    <tr>\n",
       "      <th>19784</th>\n",
       "      <td>2019-02-04 13:30:00</td>\n",
       "      <td>71</td>\n",
       "      <td>1</td>\n",
       "      <td>206.27</td>\n",
       "      <td>206.270000</td>\n",
       "    </tr>\n",
       "    <tr>\n",
       "      <th>19785</th>\n",
       "      <td>2019-02-04 13:45:00</td>\n",
       "      <td>71</td>\n",
       "      <td>3</td>\n",
       "      <td>52.76</td>\n",
       "      <td>17.586666</td>\n",
       "    </tr>\n",
       "    <tr>\n",
       "      <th>19786</th>\n",
       "      <td>2019-02-04 14:00:00</td>\n",
       "      <td>71</td>\n",
       "      <td>1</td>\n",
       "      <td>17.48</td>\n",
       "      <td>17.480000</td>\n",
       "    </tr>\n",
       "    <tr>\n",
       "      <th>19787</th>\n",
       "      <td>2019-02-04 14:15:00</td>\n",
       "      <td>71</td>\n",
       "      <td>2</td>\n",
       "      <td>94.95</td>\n",
       "      <td>47.475000</td>\n",
       "    </tr>\n",
       "    <tr>\n",
       "      <th>19788</th>\n",
       "      <td>2019-02-04 14:30:00</td>\n",
       "      <td>71</td>\n",
       "      <td>1</td>\n",
       "      <td>34.99</td>\n",
       "      <td>34.990000</td>\n",
       "    </tr>\n",
       "    <tr>\n",
       "      <th>19789</th>\n",
       "      <td>2019-02-04 14:45:00</td>\n",
       "      <td>71</td>\n",
       "      <td>3</td>\n",
       "      <td>348.92</td>\n",
       "      <td>116.306666</td>\n",
       "    </tr>\n",
       "    <tr>\n",
       "      <th>19790</th>\n",
       "      <td>2019-02-04 15:00:00</td>\n",
       "      <td>71</td>\n",
       "      <td>2</td>\n",
       "      <td>35.22</td>\n",
       "      <td>17.610000</td>\n",
       "    </tr>\n",
       "    <tr>\n",
       "      <th>19791</th>\n",
       "      <td>2019-02-04 15:15:00</td>\n",
       "      <td>71</td>\n",
       "      <td>1</td>\n",
       "      <td>5.04</td>\n",
       "      <td>5.040000</td>\n",
       "    </tr>\n",
       "    <tr>\n",
       "      <th>19792</th>\n",
       "      <td>2019-02-04 15:30:00</td>\n",
       "      <td>71</td>\n",
       "      <td>2</td>\n",
       "      <td>51.62</td>\n",
       "      <td>25.810000</td>\n",
       "    </tr>\n",
       "    <tr>\n",
       "      <th>19793</th>\n",
       "      <td>2019-02-04 15:45:00</td>\n",
       "      <td>71</td>\n",
       "      <td>4</td>\n",
       "      <td>134.45</td>\n",
       "      <td>33.612500</td>\n",
       "    </tr>\n",
       "    <tr>\n",
       "      <th>19794</th>\n",
       "      <td>2019-02-04 16:00:00</td>\n",
       "      <td>71</td>\n",
       "      <td>1</td>\n",
       "      <td>34.99</td>\n",
       "      <td>34.990000</td>\n",
       "    </tr>\n",
       "    <tr>\n",
       "      <th>19795</th>\n",
       "      <td>2019-02-04 16:15:00</td>\n",
       "      <td>71</td>\n",
       "      <td>3</td>\n",
       "      <td>114.71</td>\n",
       "      <td>38.236666</td>\n",
       "    </tr>\n",
       "    <tr>\n",
       "      <th>19796</th>\n",
       "      <td>2019-02-04 16:30:00</td>\n",
       "      <td>71</td>\n",
       "      <td>6</td>\n",
       "      <td>106.17</td>\n",
       "      <td>17.695000</td>\n",
       "    </tr>\n",
       "    <tr>\n",
       "      <th>19797</th>\n",
       "      <td>2019-02-04 16:45:00</td>\n",
       "      <td>71</td>\n",
       "      <td>3</td>\n",
       "      <td>93.29</td>\n",
       "      <td>31.096666</td>\n",
       "    </tr>\n",
       "    <tr>\n",
       "      <th>19798</th>\n",
       "      <td>2019-02-04 17:00:00</td>\n",
       "      <td>71</td>\n",
       "      <td>2</td>\n",
       "      <td>84.47</td>\n",
       "      <td>42.235000</td>\n",
       "    </tr>\n",
       "    <tr>\n",
       "      <th>19799</th>\n",
       "      <td>2019-02-04 17:30:00</td>\n",
       "      <td>71</td>\n",
       "      <td>4</td>\n",
       "      <td>167.62</td>\n",
       "      <td>41.905000</td>\n",
       "    </tr>\n",
       "    <tr>\n",
       "      <th>19800</th>\n",
       "      <td>2019-02-04 18:00:00</td>\n",
       "      <td>71</td>\n",
       "      <td>1</td>\n",
       "      <td>33.48</td>\n",
       "      <td>33.480000</td>\n",
       "    </tr>\n",
       "    <tr>\n",
       "      <th>19801</th>\n",
       "      <td>2019-02-04 18:45:00</td>\n",
       "      <td>71</td>\n",
       "      <td>3</td>\n",
       "      <td>148.36</td>\n",
       "      <td>49.453333</td>\n",
       "    </tr>\n",
       "    <tr>\n",
       "      <th>19802</th>\n",
       "      <td>2019-02-04 19:00:00</td>\n",
       "      <td>71</td>\n",
       "      <td>3</td>\n",
       "      <td>151.09</td>\n",
       "      <td>50.363333</td>\n",
       "    </tr>\n",
       "    <tr>\n",
       "      <th>19803</th>\n",
       "      <td>2019-02-04 19:15:00</td>\n",
       "      <td>71</td>\n",
       "      <td>3</td>\n",
       "      <td>74.24</td>\n",
       "      <td>24.746666</td>\n",
       "    </tr>\n",
       "    <tr>\n",
       "      <th>19804</th>\n",
       "      <td>2019-02-04 19:30:00</td>\n",
       "      <td>71</td>\n",
       "      <td>4</td>\n",
       "      <td>87.22</td>\n",
       "      <td>21.805000</td>\n",
       "    </tr>\n",
       "    <tr>\n",
       "      <th>19805</th>\n",
       "      <td>2019-02-04 19:45:00</td>\n",
       "      <td>71</td>\n",
       "      <td>3</td>\n",
       "      <td>74.69</td>\n",
       "      <td>24.896666</td>\n",
       "    </tr>\n",
       "    <tr>\n",
       "      <th>19806</th>\n",
       "      <td>2019-02-04 20:00:00</td>\n",
       "      <td>71</td>\n",
       "      <td>1</td>\n",
       "      <td>44.48</td>\n",
       "      <td>44.480000</td>\n",
       "    </tr>\n",
       "    <tr>\n",
       "      <th>19807</th>\n",
       "      <td>2019-02-04 20:15:00</td>\n",
       "      <td>71</td>\n",
       "      <td>1</td>\n",
       "      <td>88.98</td>\n",
       "      <td>88.980000</td>\n",
       "    </tr>\n",
       "    <tr>\n",
       "      <th>19808</th>\n",
       "      <td>2019-02-04 20:30:00</td>\n",
       "      <td>71</td>\n",
       "      <td>2</td>\n",
       "      <td>84.73</td>\n",
       "      <td>42.365000</td>\n",
       "    </tr>\n",
       "    <tr>\n",
       "      <th>19809</th>\n",
       "      <td>2019-02-04 20:45:00</td>\n",
       "      <td>71</td>\n",
       "      <td>1</td>\n",
       "      <td>8.23</td>\n",
       "      <td>8.230000</td>\n"
      ],
      "text/plain": [
       "      transaction_datetime  store_no  transaction_count  total_amount  \\\n",
       "18460  2018-12-31 09:00:00        71                  1          3.29   \n",
       "18461  2018-12-31 09:15:00        71                  2         27.16   \n",
       "18462  2018-12-31 10:00:00        71                  1         16.99   \n",
       "18463  2018-12-31 10:15:00        71                  3         20.37   \n",
       "18464  2018-12-31 10:30:00        71                  2         63.97   \n",
       "18465  2018-12-31 10:45:00        71                  2          7.97   \n",
       "18466  2018-12-31 11:00:00        71                  6        116.12   \n",
       "18467  2018-12-31 11:15:00        71                  2         29.36   \n",
       "18468  2018-12-31 11:30:00        71                  1         28.27   \n",
       "18469  2018-12-31 12:00:00        71                  3        150.73   \n",
       "18470  2018-12-31 12:15:00        71                  3         84.25   \n",
       "18471  2018-12-31 12:30:00        71                  3         43.76   \n",
       "18472  2018-12-31 12:45:00        71                  1         36.37   \n",
       "18473  2018-12-31 13:00:00        71                  1         61.97   \n",
       "18474  2018-12-31 13:15:00        71                  1         76.94   \n",
       "18475  2018-12-31 13:30:00        71                  5        160.42   \n",
       "18476  2018-12-31 13:45:00        71                  3         55.15   \n",
       "18477  2018-12-31 14:00:00        71                  6         93.82   \n",
       "18478  2018-12-31 14:15:00        71                  6        186.70   \n",
       "18479  2018-12-31 14:30:00        71                  5        238.87   \n",
       "18480  2018-12-31 14:45:00        71                  5        258.90   \n",
       "18481  2018-12-31 15:00:00        71                  1         69.05   \n",
       "18482  2018-12-31 15:15:00        71                  4         76.88   \n",
       "18483  2018-12-31 16:15:00        71                  1         14.44   \n",
       "18484  2018-12-31 16:30:00        71                  3         27.31   \n",
       "18485  2018-12-31 17:00:00        71                  2        115.16   \n",
       "18486  2018-12-31 17:45:00        71                  3        190.89   \n",
       "18487  2018-12-31 18:00:00        71                  1         29.99   \n",
       "18488  2018-12-31 18:45:00        71                  1         20.97   \n",
       "18708  2019-01-07 06:30:00        71                  1          3.19   \n",
       "...                    ...       ...                ...           ...   \n",
       "19780  2019-02-04 12:15:00        71                  4        167.91   \n",
       "19781  2019-02-04 12:30:00        71                  2         74.12   \n",
       "19782  2019-02-04 13:00:00        71                  2         42.07   \n",
       "19783  2019-02-04 13:15:00        71                  2        136.42   \n",
       "19784  2019-02-04 13:30:00        71                  1        206.27   \n",
       "19785  2019-02-04 13:45:00        71                  3         52.76   \n",
       "19786  2019-02-04 14:00:00        71                  1         17.48   \n",
       "19787  2019-02-04 14:15:00        71                  2         94.95   \n",
       "19788  2019-02-04 14:30:00        71                  1         34.99   \n",
       "19789  2019-02-04 14:45:00        71                  3        348.92   \n",
       "19790  2019-02-04 15:00:00        71                  2         35.22   \n",
       "19791  2019-02-04 15:15:00        71                  1          5.04   \n",
       "19792  2019-02-04 15:30:00        71                  2         51.62   \n",
       "19793  2019-02-04 15:45:00        71                  4        134.45   \n",
       "19794  2019-02-04 16:00:00        71                  1         34.99   \n",
       "19795  2019-02-04 16:15:00        71                  3        114.71   \n",
       "19796  2019-02-04 16:30:00        71                  6        106.17   \n",
       "19797  2019-02-04 16:45:00        71                  3         93.29   \n",
       "19798  2019-02-04 17:00:00        71                  2         84.47   \n",
       "19799  2019-02-04 17:30:00        71                  4        167.62   \n",
       "19800  2019-02-04 18:00:00        71                  1         33.48   \n",
       "19801  2019-02-04 18:45:00        71                  3        148.36   \n",
       "19802  2019-02-04 19:00:00        71                  3        151.09   \n",
       "19803  2019-02-04 19:15:00        71                  3         74.24   \n",
       "19804  2019-02-04 19:30:00        71                  4         87.22   \n",
       "19805  2019-02-04 19:45:00        71                  3         74.69   \n",
       "19806  2019-02-04 20:00:00        71                  1         44.48   \n",
       "19807  2019-02-04 20:15:00        71                  1         88.98   \n",
       "19808  2019-02-04 20:30:00        71                  2         84.73   \n",
       "19809  2019-02-04 20:45:00        71                  1          8.23   \n",
       "\n",
       "          AOV5min  \n",
       "18460    3.290000  \n",
       "18461   13.580000  \n",
       "18462   16.990000  \n",
       "18463    6.790000  \n",
       "18464   31.985000  \n",
       "18465    3.985000  \n",
       "18466   19.353333  \n",
       "18467   14.680000  \n",
       "18468   28.270000  \n",
       "18469   50.243333  \n",
       "18470   28.083333  \n",
       "18471   14.586666  \n",
       "18472   36.370000  \n",
       "18473   61.970000  \n",
       "18474   76.940000  \n",
       "18475   32.084000  \n",
       "18476   18.383333  \n",
       "18477   15.636666  \n",
       "18478   31.116666  \n",
       "18479   47.774000  \n",
       "18480   51.780000  \n",
       "18481   69.050000  \n",
       "18482   19.220000  \n",
       "18483   14.440000  \n",
       "18484    9.103333  \n",
       "18485   57.580000  \n",
       "18486   63.630000  \n",
       "18487   29.990000  \n",
       "18488   20.970000  \n",
       "18708    3.190000  \n",
       "...           ...  \n",
       "19780   41.977500  \n",
       "19781   37.060000  \n",
       "19782   21.035000  \n",
       "19783   68.210000  \n",
       "19784  206.270000  \n",
       "19785   17.586666  \n",
       "19786   17.480000  \n",
       "19787   47.475000  \n",
       "19788   34.990000  \n",
       "19789  116.306666  \n",
       "19790   17.610000  \n",
       "19791    5.040000  \n",
       "19792   25.810000  \n",
       "19793   33.612500  \n",
       "19794   34.990000  \n",
       "19795   38.236666  \n",
       "19796   17.695000  \n",
       "19797   31.096666  \n",
       "19798   42.235000  \n",
       "19799   41.905000  \n",
       "19800   33.480000  \n",
       "19801   49.453333  \n",
       "19802   50.363333  \n",
       "19803   24.746666  \n",
       "19804   21.805000  \n",
       "19805   24.896666  \n",
       "19806   44.480000  \n",
       "19807   88.980000  \n",
       "19808   42.365000  \n",
       "19809    8.230000  \n",
       "\n",
       "[233 rows x 5 columns]"
      ]
     },
     "execution_count": 183,
     "metadata": {},
     "output_type": "execute_result"
    },
    {
     "data": {
      "text/html": [
       "<b>limit_output extension: Maximum message size of 10000 exceeded with 10064 characters</b>"
      ]
     },
     "metadata": {},
     "output_type": "display_data"
    }
   ],
   "source": [
    "tempFrame"
   ]
  },
  {
   "cell_type": "code",
   "execution_count": 160,
   "metadata": {
    "ExecuteTime": {
     "end_time": "2019-03-14T19:12:55.586010Z",
     "start_time": "2019-03-14T19:12:55.579544Z"
    }
   },
   "outputs": [
    {
     "data": {
      "text/plain": [
       "138450.84999999998"
      ]
     },
     "execution_count": 160,
     "metadata": {},
     "output_type": "execute_result"
    }
   ],
   "source": [
    "final_frame[final_frame.store_no==71]['total_amount'].sum()"
   ]
  },
  {
   "cell_type": "code",
   "execution_count": 161,
   "metadata": {
    "ExecuteTime": {
     "end_time": "2019-03-14T19:12:56.320397Z",
     "start_time": "2019-03-14T19:12:56.314220Z"
    }
   },
   "outputs": [
    {
     "data": {
      "text/plain": [
       "178907.39"
      ]
     },
     "execution_count": 161,
     "metadata": {},
     "output_type": "execute_result"
    }
   ],
   "source": [
    "storeSales_frame[storeSales_frame['store_no']==71]['total_amount'].sum()"
   ]
  },
  {
   "cell_type": "code",
   "execution_count": 154,
   "metadata": {
    "ExecuteTime": {
     "end_time": "2019-03-14T19:10:21.948262Z",
     "start_time": "2019-03-14T19:10:21.940575Z"
    }
   },
   "outputs": [
    {
     "data": {
      "text/plain": [
       "Timestamp('2019-02-23 22:00:00')"
      ]
     },
     "execution_count": 154,
     "metadata": {},
     "output_type": "execute_result"
    }
   ],
   "source": [
    "storeSales_frame.transaction_datetime.max()"
   ]
  },
  {
   "cell_type": "code",
   "execution_count": 155,
   "metadata": {
    "ExecuteTime": {
     "end_time": "2019-03-14T19:10:40.156679Z",
     "start_time": "2019-03-14T19:10:40.151086Z"
    }
   },
   "outputs": [
    {
     "data": {
      "text/plain": [
       "Timestamp('2019-02-10 19:00:00')"
      ]
     },
     "execution_count": 155,
     "metadata": {},
     "output_type": "execute_result"
    }
   ],
   "source": [
    "traffic_frame.traffic_until.max()"
   ]
  },
  {
   "cell_type": "code",
   "execution_count": 156,
   "metadata": {
    "ExecuteTime": {
     "end_time": "2019-03-14T19:12:06.779156Z",
     "start_time": "2019-03-14T19:12:06.766795Z"
    }
   },
   "outputs": [],
   "source": [
    "tempFrame = storeSales_frame[storeSales_frame.transaction_datetime <= traffic_frame.traffic_until.max()]"
   ]
  },
  {
   "cell_type": "code",
   "execution_count": 162,
   "metadata": {
    "ExecuteTime": {
     "end_time": "2019-03-14T19:13:00.356019Z",
     "start_time": "2019-03-14T19:13:00.349553Z"
    }
   },
   "outputs": [
    {
     "data": {
      "text/plain": [
       "139298.31"
      ]
     },
     "execution_count": 162,
     "metadata": {},
     "output_type": "execute_result"
    }
   ],
   "source": [
    "tempFrame[tempFrame['store_no']==71]['total_amount'].sum()"
   ]
  },
  {
   "cell_type": "code",
   "execution_count": 163,
   "metadata": {
    "ExecuteTime": {
     "end_time": "2019-03-14T19:13:08.951127Z",
     "start_time": "2019-03-14T19:13:08.947100Z"
    }
   },
   "outputs": [
    {
     "data": {
      "text/plain": [
       "0.9939162219556"
      ]
     },
     "execution_count": 163,
     "metadata": {},
     "output_type": "execute_result"
    }
   ],
   "source": [
    "138450.84999999998/139298.31"
   ]
  },
  {
   "cell_type": "code",
   "execution_count": 195,
   "metadata": {
    "ExecuteTime": {
     "end_time": "2019-03-14T19:36:47.572577Z",
     "start_time": "2019-03-14T19:36:47.557979Z"
    }
   },
   "outputs": [
    {
     "data": {
      "text/plain": [
       "array([datetime.date(2019, 1, 2), datetime.date(2019, 1, 3),\n",
       "       datetime.date(2019, 1, 4), datetime.date(2019, 1, 5),\n",
       "       datetime.date(2019, 1, 6), datetime.date(2019, 1, 7),\n",
       "       datetime.date(2018, 12, 30), datetime.date(2018, 12, 31),\n",
       "       datetime.date(2019, 1, 1), datetime.date(2019, 1, 8),\n",
       "       datetime.date(2019, 1, 9), datetime.date(2019, 1, 10),\n",
       "       datetime.date(2019, 1, 11), datetime.date(2019, 1, 12),\n",
       "       datetime.date(2019, 1, 13), datetime.date(2019, 1, 14),\n",
       "       datetime.date(2019, 1, 15), datetime.date(2019, 1, 16),\n",
       "       datetime.date(2019, 1, 17), datetime.date(2019, 1, 18),\n",
       "       datetime.date(2019, 1, 19), datetime.date(2019, 1, 20),\n",
       "       datetime.date(2019, 1, 21), datetime.date(2019, 1, 22),\n",
       "       datetime.date(2019, 1, 23), datetime.date(2019, 1, 24),\n",
       "       datetime.date(2019, 1, 25), datetime.date(2019, 1, 26),\n",
       "       datetime.date(2019, 1, 27), datetime.date(2019, 1, 28),\n",
       "       datetime.date(2019, 1, 29), datetime.date(2019, 1, 30),\n",
       "       datetime.date(2019, 1, 31), datetime.date(2019, 2, 1),\n",
       "       datetime.date(2019, 2, 2), datetime.date(2019, 2, 3),\n",
       "       datetime.date(2019, 2, 4), datetime.date(2019, 2, 5),\n",
       "       datetime.date(2019, 2, 6), datetime.date(2019, 2, 7),\n",
       "       datetime.date(2019, 2, 8), datetime.date(2019, 2, 9),\n",
       "       datetime.date(2019, 2, 10)], dtype=object)"
      ]
     },
     "execution_count": 195,
     "metadata": {},
     "output_type": "execute_result"
    }
   ],
   "source": [
    "final_frame.traffic_until.dt.date.unique()"
   ]
  },
  {
   "cell_type": "code",
   "execution_count": 203,
   "metadata": {
    "ExecuteTime": {
     "end_time": "2019-03-14T20:01:27.421422Z",
     "start_time": "2019-03-14T20:01:27.414756Z"
    },
    "scrolled": true
   },
   "outputs": [],
   "source": [
    "tempFrame = grouped_emp_frame[grouped_emp_frame['Store_Number']==833]"
   ]
  },
  {
   "cell_type": "code",
   "execution_count": 208,
   "metadata": {
    "ExecuteTime": {
     "end_time": "2019-03-14T20:03:18.735184Z",
     "start_time": "2019-03-14T20:03:18.718972Z"
    },
    "scrolled": true
   },
   "outputs": [
    {
     "data": {
      "text/html": [
       "<div>\n",
       "<style scoped>\n",
       "    .dataframe tbody tr th:only-of-type {\n",
       "        vertical-align: middle;\n",
       "    }\n",
       "\n",
       "    .dataframe tbody tr th {\n",
       "        vertical-align: top;\n",
       "    }\n",
       "\n",
       "    .dataframe thead th {\n",
       "        text-align: right;\n",
       "    }\n",
       "</style>\n",
       "<table border=\"1\" class=\"dataframe\">\n",
       "  <thead>\n",
       "    <tr style=\"text-align: right;\">\n",
       "      <th></th>\n",
       "      <th>hours</th>\n",
       "      <th>Store_Number</th>\n",
       "      <th>In_Store</th>\n",
       "    </tr>\n",
       "  </thead>\n",
       "  <tbody>\n",
       "    <tr>\n",
       "      <th>1450534</th>\n",
       "      <td>2019-02-11 21:00:00</td>\n",
       "      <td>833</td>\n",
       "      <td>3</td>\n",
       "    </tr>\n",
       "    <tr>\n",
       "      <th>1444652</th>\n",
       "      <td>2019-02-11 18:45:00</td>\n",
       "      <td>833</td>\n",
       "      <td>3</td>\n",
       "    </tr>\n",
       "    <tr>\n",
       "      <th>1439030</th>\n",
       "      <td>2019-02-11 16:45:00</td>\n",
       "      <td>833</td>\n",
       "      <td>3</td>\n",
       "    </tr>\n",
       "    <tr>\n",
       "      <th>1439746</th>\n",
       "      <td>2019-02-11 17:00:00</td>\n",
       "      <td>833</td>\n",
       "      <td>3</td>\n",
       "    </tr>\n",
       "    <tr>\n",
       "      <th>1441154</th>\n",
       "      <td>2019-02-11 17:30:00</td>\n",
       "      <td>833</td>\n",
       "      <td>3</td>\n",
       "    </tr>\n",
       "    <tr>\n",
       "      <th>1441852</th>\n",
       "      <td>2019-02-11 17:45:00</td>\n",
       "      <td>833</td>\n",
       "      <td>3</td>\n",
       "    </tr>\n",
       "    <tr>\n",
       "      <th>1442550</th>\n",
       "      <td>2019-02-11 18:00:00</td>\n",
       "      <td>833</td>\n",
       "      <td>3</td>\n",
       "    </tr>\n",
       "    <tr>\n",
       "      <th>1443248</th>\n",
       "      <td>2019-02-11 18:15:00</td>\n",
       "      <td>833</td>\n",
       "      <td>3</td>\n",
       "    </tr>\n",
       "    <tr>\n",
       "      <th>1443951</th>\n",
       "      <td>2019-02-11 18:30:00</td>\n",
       "      <td>833</td>\n",
       "      <td>3</td>\n",
       "    </tr>\n",
       "    <tr>\n",
       "      <th>1440452</th>\n",
       "      <td>2019-02-11 17:15:00</td>\n",
       "      <td>833</td>\n",
       "      <td>3</td>\n",
       "    </tr>\n",
       "    <tr>\n",
       "      <th>1445353</th>\n",
       "      <td>2019-02-11 19:00:00</td>\n",
       "      <td>833</td>\n",
       "      <td>3</td>\n",
       "    </tr>\n",
       "    <tr>\n",
       "      <th>1446756</th>\n",
       "      <td>2019-02-11 19:30:00</td>\n",
       "      <td>833</td>\n",
       "      <td>3</td>\n",
       "    </tr>\n",
       "    <tr>\n",
       "      <th>1447456</th>\n",
       "      <td>2019-02-11 19:45:00</td>\n",
       "      <td>833</td>\n",
       "      <td>3</td>\n",
       "    </tr>\n",
       "    <tr>\n",
       "      <th>1448143</th>\n",
       "      <td>2019-02-11 20:00:00</td>\n",
       "      <td>833</td>\n",
       "      <td>3</td>\n",
       "    </tr>\n",
       "    <tr>\n",
       "      <th>1449986</th>\n",
       "      <td>2019-02-11 20:45:00</td>\n",
       "      <td>833</td>\n",
       "      <td>3</td>\n",
       "    </tr>\n",
       "    <tr>\n",
       "      <th>1446056</th>\n",
       "      <td>2019-02-11 19:15:00</td>\n",
       "      <td>833</td>\n",
       "      <td>3</td>\n",
       "    </tr>\n",
       "    <tr>\n",
       "      <th>981781</th>\n",
       "      <td>2019-01-28 18:45:00</td>\n",
       "      <td>833</td>\n",
       "      <td>2</td>\n",
       "    </tr>\n",
       "    <tr>\n",
       "      <th>976610</th>\n",
       "      <td>2019-01-28 17:00:00</td>\n",
       "      <td>833</td>\n",
       "      <td>2</td>\n",
       "    </tr>\n",
       "    <tr>\n",
       "      <th>977347</th>\n",
       "      <td>2019-01-28 17:15:00</td>\n",
       "      <td>833</td>\n",
       "      <td>2</td>\n",
       "    </tr>\n",
       "    <tr>\n",
       "      <th>978083</th>\n",
       "      <td>2019-01-28 17:30:00</td>\n",
       "      <td>833</td>\n",
       "      <td>2</td>\n",
       "    </tr>\n",
       "    <tr>\n",
       "      <th>978820</th>\n",
       "      <td>2019-01-28 17:45:00</td>\n",
       "      <td>833</td>\n",
       "      <td>2</td>\n",
       "    </tr>\n",
       "    <tr>\n",
       "      <th>979559</th>\n",
       "      <td>2019-01-28 18:00:00</td>\n",
       "      <td>833</td>\n",
       "      <td>2</td>\n",
       "    </tr>\n",
       "    <tr>\n",
       "      <th>980303</th>\n",
       "      <td>2019-01-28 18:15:00</td>\n",
       "      <td>833</td>\n",
       "      <td>2</td>\n",
       "    </tr>\n",
       "    <tr>\n",
       "      <th>981043</th>\n",
       "      <td>2019-01-28 18:30:00</td>\n",
       "      <td>833</td>\n",
       "      <td>2</td>\n",
       "    </tr>\n",
       "    <tr>\n",
       "      <th>983985</th>\n",
       "      <td>2019-01-28 19:30:00</td>\n",
       "      <td>833</td>\n",
       "      <td>2</td>\n",
       "    </tr>\n",
       "    <tr>\n",
       "      <th>982518</th>\n",
       "      <td>2019-01-28 19:00:00</td>\n",
       "      <td>833</td>\n",
       "      <td>2</td>\n",
       "    </tr>\n",
       "    <tr>\n",
       "      <th>983252</th>\n",
       "      <td>2019-01-28 19:15:00</td>\n",
       "      <td>833</td>\n",
       "      <td>2</td>\n",
       "    </tr>\n",
       "    <tr>\n",
       "      <th>984717</th>\n",
       "      <td>2019-01-28 19:45:00</td>\n",
       "      <td>833</td>\n",
       "      <td>2</td>\n",
       "    </tr>\n",
       "    <tr>\n",
       "      <th>985438</th>\n",
       "      <td>2019-01-28 20:00:00</td>\n",
       "      <td>833</td>\n",
       "      <td>2</td>\n",
       "    </tr>\n",
       "    <tr>\n",
       "      <th>986716</th>\n",
       "      <td>2019-01-28 20:30:00</td>\n",
       "      <td>833</td>\n",
       "      <td>2</td>\n",
       "    </tr>\n",
       "    <tr>\n",
       "      <th>...</th>\n",
       "      <td>...</td>\n",
       "      <td>...</td>\n",
       "      <td>...</td>\n",
       "    </tr>\n",
       "    <tr>\n",
       "      <th>494456</th>\n",
       "      <td>2019-01-14 13:30:00</td>\n",
       "      <td>833</td>\n",
       "      <td>1</td>\n",
       "    </tr>\n",
       "    <tr>\n",
       "      <th>1196159</th>\n",
       "      <td>2019-02-04 13:30:00</td>\n",
       "      <td>833</td>\n",
       "      <td>1</td>\n",
       "    </tr>\n",
       "    <tr>\n",
       "      <th>1195433</th>\n",
       "      <td>2019-02-04 13:15:00</td>\n",
       "      <td>833</td>\n",
       "      <td>1</td>\n",
       "    </tr>\n",
       "    <tr>\n",
       "      <th>1194011</th>\n",
       "      <td>2019-02-04 12:45:00</td>\n",
       "      <td>833</td>\n",
       "      <td>1</td>\n",
       "    </tr>\n",
       "    <tr>\n",
       "      <th>1193354</th>\n",
       "      <td>2019-02-04 12:30:00</td>\n",
       "      <td>833</td>\n",
       "      <td>1</td>\n",
       "    </tr>\n",
       "    <tr>\n",
       "      <th>1192711</th>\n",
       "      <td>2019-02-04 12:15:00</td>\n",
       "      <td>833</td>\n",
       "      <td>1</td>\n",
       "    </tr>\n",
       "    <tr>\n",
       "      <th>1192073</th>\n",
       "      <td>2019-02-04 12:00:00</td>\n",
       "      <td>833</td>\n",
       "      <td>1</td>\n",
       "    </tr>\n",
       "    <tr>\n",
       "      <th>276419</th>\n",
       "      <td>2019-01-07 19:00:00</td>\n",
       "      <td>833</td>\n",
       "      <td>1</td>\n",
       "    </tr>\n",
       "    <tr>\n",
       "      <th>490331</th>\n",
       "      <td>2019-01-14 12:00:00</td>\n",
       "      <td>833</td>\n",
       "      <td>1</td>\n",
       "    </tr>\n",
       "    <tr>\n",
       "      <th>490974</th>\n",
       "      <td>2019-01-14 12:15:00</td>\n",
       "      <td>833</td>\n",
       "      <td>1</td>\n",
       "    </tr>\n",
       "    <tr>\n",
       "      <th>491629</th>\n",
       "      <td>2019-01-14 12:30:00</td>\n",
       "      <td>833</td>\n",
       "      <td>1</td>\n",
       "    </tr>\n",
       "    <tr>\n",
       "      <th>492291</th>\n",
       "      <td>2019-01-14 12:45:00</td>\n",
       "      <td>833</td>\n",
       "      <td>1</td>\n",
       "    </tr>\n",
       "    <tr>\n",
       "      <th>493013</th>\n",
       "      <td>2019-01-14 13:00:00</td>\n",
       "      <td>833</td>\n",
       "      <td>1</td>\n",
       "    </tr>\n",
       "    <tr>\n",
       "      <th>493738</th>\n",
       "      <td>2019-01-14 13:15:00</td>\n",
       "      <td>833</td>\n",
       "      <td>1</td>\n",
       "    </tr>\n",
       "    <tr>\n",
       "      <th>495181</th>\n",
       "      <td>2019-01-14 13:45:00</td>\n",
       "      <td>833</td>\n",
       "      <td>1</td>\n",
       "    </tr>\n",
       "    <tr>\n",
       "      <th>965383</th>\n",
       "      <td>2019-01-28 13:15:00</td>\n",
       "      <td>833</td>\n",
       "      <td>1</td>\n",
       "    </tr>\n",
       "    <tr>\n",
       "      <th>495932</th>\n",
       "      <td>2019-01-14 14:00:00</td>\n",
       "      <td>833</td>\n",
       "      <td>1</td>\n",
       "    </tr>\n",
       "    <tr>\n",
       "      <th>975867</th>\n",
       "      <td>2019-01-28 16:45:00</td>\n",
       "      <td>833</td>\n",
       "      <td>1</td>\n",
       "    </tr>\n",
       "    <tr>\n",
       "      <th>975118</th>\n",
       "      <td>2019-01-28 16:30:00</td>\n",
       "      <td>833</td>\n",
       "      <td>1</td>\n",
       "    </tr>\n",
       "    <tr>\n",
       "      <th>974368</th>\n",
       "      <td>2019-01-28 16:15:00</td>\n",
       "      <td>833</td>\n",
       "      <td>1</td>\n",
       "    </tr>\n",
       "    <tr>\n",
       "      <th>973622</th>\n",
       "      <td>2019-01-28 16:00:00</td>\n",
       "      <td>833</td>\n",
       "      <td>1</td>\n",
       "    </tr>\n",
       "    <tr>\n",
       "      <th>972871</th>\n",
       "      <td>2019-01-28 15:45:00</td>\n",
       "      <td>833</td>\n",
       "      <td>1</td>\n",
       "    </tr>\n",
       "    <tr>\n",
       "      <th>972115</th>\n",
       "      <td>2019-01-28 15:30:00</td>\n",
       "      <td>833</td>\n",
       "      <td>1</td>\n",
       "    </tr>\n",
       "    <tr>\n",
       "      <th>971358</th>\n",
       "      <td>2019-01-28 15:15:00</td>\n",
       "      <td>833</td>\n",
       "      <td>1</td>\n",
       "    </tr>\n",
       "    <tr>\n",
       "      <th>969100</th>\n",
       "      <td>2019-01-28 14:30:00</td>\n",
       "      <td>833</td>\n",
       "      <td>1</td>\n",
       "    </tr>\n",
       "    <tr>\n",
       "      <th>968347</th>\n",
       "      <td>2019-01-28 14:15:00</td>\n",
       "      <td>833</td>\n",
       "      <td>1</td>\n",
       "    </tr>\n",
       "    <tr>\n",
       "      <th>967595</th>\n",
       "      <td>2019-01-28 14:00:00</td>\n",
       "      <td>833</td>\n",
       "      <td>1</td>\n",
       "    </tr>\n",
       "    <tr>\n",
       "      <th>966848</th>\n",
       "      <td>2019-01-28 13:45:00</td>\n",
       "      <td>833</td>\n",
       "      <td>1</td>\n",
       "    </tr>\n",
       "    <tr>\n",
       "      <th>966112</th>\n",
       "      <td>2019-01-28 13:30:00</td>\n",
       "      <td>833</td>\n",
       "      <td>1</td>\n",
       "    </tr>\n",
       "    <tr>\n",
       "      <th>33842</th>\n",
       "      <td>2018-12-31 12:00:00</td>\n",
       "      <td>833</td>\n",
       "      <td>1</td>\n",
       "    </tr>\n",
       "  </tbody>\n",
       "</table>\n",
       "<p>230 rows × 3 columns</p>\n",
       "</div>"
      ],
      "text/plain": [
       "                      hours  Store_Number  In_Store\n",
       "1450534 2019-02-11 21:00:00           833         3\n",
       "1444652 2019-02-11 18:45:00           833         3\n",
       "1439030 2019-02-11 16:45:00           833         3\n",
       "1439746 2019-02-11 17:00:00           833         3\n",
       "1441154 2019-02-11 17:30:00           833         3\n",
       "1441852 2019-02-11 17:45:00           833         3\n",
       "1442550 2019-02-11 18:00:00           833         3\n",
       "1443248 2019-02-11 18:15:00           833         3\n",
       "1443951 2019-02-11 18:30:00           833         3\n",
       "1440452 2019-02-11 17:15:00           833         3\n",
       "1445353 2019-02-11 19:00:00           833         3\n",
       "1446756 2019-02-11 19:30:00           833         3\n",
       "1447456 2019-02-11 19:45:00           833         3\n",
       "1448143 2019-02-11 20:00:00           833         3\n",
       "1449986 2019-02-11 20:45:00           833         3\n",
       "1446056 2019-02-11 19:15:00           833         3\n",
       "981781  2019-01-28 18:45:00           833         2\n",
       "976610  2019-01-28 17:00:00           833         2\n",
       "977347  2019-01-28 17:15:00           833         2\n",
       "978083  2019-01-28 17:30:00           833         2\n",
       "978820  2019-01-28 17:45:00           833         2\n",
       "979559  2019-01-28 18:00:00           833         2\n",
       "980303  2019-01-28 18:15:00           833         2\n",
       "981043  2019-01-28 18:30:00           833         2\n",
       "983985  2019-01-28 19:30:00           833         2\n",
       "982518  2019-01-28 19:00:00           833         2\n",
       "983252  2019-01-28 19:15:00           833         2\n",
       "984717  2019-01-28 19:45:00           833         2\n",
       "985438  2019-01-28 20:00:00           833         2\n",
       "986716  2019-01-28 20:30:00           833         2\n",
       "...                     ...           ...       ...\n",
       "494456  2019-01-14 13:30:00           833         1\n",
       "1196159 2019-02-04 13:30:00           833         1\n",
       "1195433 2019-02-04 13:15:00           833         1\n",
       "1194011 2019-02-04 12:45:00           833         1\n",
       "1193354 2019-02-04 12:30:00           833         1\n",
       "1192711 2019-02-04 12:15:00           833         1\n",
       "1192073 2019-02-04 12:00:00           833         1\n",
       "276419  2019-01-07 19:00:00           833         1\n",
       "490331  2019-01-14 12:00:00           833         1\n",
       "490974  2019-01-14 12:15:00           833         1\n",
       "491629  2019-01-14 12:30:00           833         1\n",
       "492291  2019-01-14 12:45:00           833         1\n",
       "493013  2019-01-14 13:00:00           833         1\n",
       "493738  2019-01-14 13:15:00           833         1\n",
       "495181  2019-01-14 13:45:00           833         1\n",
       "965383  2019-01-28 13:15:00           833         1\n",
       "495932  2019-01-14 14:00:00           833         1\n",
       "975867  2019-01-28 16:45:00           833         1\n",
       "975118  2019-01-28 16:30:00           833         1\n",
       "974368  2019-01-28 16:15:00           833         1\n",
       "973622  2019-01-28 16:00:00           833         1\n",
       "972871  2019-01-28 15:45:00           833         1\n",
       "972115  2019-01-28 15:30:00           833         1\n",
       "971358  2019-01-28 15:15:00           833         1\n",
       "969100  2019-01-28 14:30:00           833         1\n",
       "968347  2019-01-28 14:15:00           833         1\n",
       "967595  2019-01-28 14:00:00           833         1\n",
       "966848  2019-01-28 13:45:00           833         1\n",
       "966112  2019-01-28 13:30:00           833         1\n",
       "33842   2018-12-31 12:00:00           833         1\n",
       "\n",
       "[230 rows x 3 columns]"
      ]
     },
     "execution_count": 208,
     "metadata": {},
     "output_type": "execute_result"
    }
   ],
   "source": [
    "tempFrame[tempFrame.hours.dt.dayofweek ==0 ].sort_values('In_Store', ascending = False)"
   ]
  },
  {
   "cell_type": "code",
   "execution_count": 210,
   "metadata": {
    "ExecuteTime": {
     "end_time": "2019-03-14T20:04:36.193050Z",
     "start_time": "2019-03-14T20:04:36.183466Z"
    },
    "scrolled": true
   },
   "outputs": [
    {
     "data": {
      "text/plain": [
       "10        1.0\n",
       "12        1.0\n",
       "32        1.0\n",
       "44        1.0\n",
       "49        1.0\n",
       "54        1.0\n",
       "63        1.0\n",
       "66        1.0\n",
       "69        1.0\n",
       "70        1.0\n",
       "71        1.0\n",
       "80        1.0\n",
       "82        1.0\n",
       "102       1.0\n",
       "114       1.0\n",
       "119       1.0\n",
       "124       1.0\n",
       "133       1.0\n",
       "136       1.0\n",
       "139       1.0\n",
       "140       1.0\n",
       "141       1.0\n",
       "150       1.0\n",
       "152       1.0\n",
       "172       1.0\n",
       "184       1.0\n",
       "189       1.0\n",
       "194       1.0\n",
       "203       1.0\n",
       "206       1.0\n",
       "         ... \n",
       "147900    2.0\n",
       "147902    1.0\n",
       "147903    2.0\n",
       "147904    2.0\n",
       "147913    2.0\n",
       "147915    1.0\n",
       "147938    2.0\n",
       "147949    2.0\n",
       "147954    1.0\n",
       "147956    1.0\n",
       "147960    2.0\n",
       "147970    2.0\n",
       "147974    1.0\n",
       "147976    2.0\n",
       "147978    1.0\n",
       "147979    2.0\n",
       "147980    2.0\n",
       "147989    2.0\n",
       "147991    1.0\n",
       "148014    2.0\n",
       "148025    2.0\n",
       "148030    1.0\n",
       "148032    1.0\n",
       "148036    2.0\n",
       "148046    2.0\n",
       "148050    1.0\n",
       "148052    2.0\n",
       "148054    1.0\n",
       "148055    1.0\n",
       "148056    1.0\n",
       "Name: In_Store, Length: 24292, dtype: float64"
      ]
     },
     "execution_count": 210,
     "metadata": {},
     "output_type": "execute_result"
    }
   ],
   "source": [
    "final_frame.In_Store"
   ]
  },
  {
   "cell_type": "code",
   "execution_count": null,
   "metadata": {},
   "outputs": [],
   "source": []
  }
 ],
 "metadata": {
  "kernelspec": {
   "display_name": "Python 3",
   "language": "python",
   "name": "python3"
  },
  "language_info": {
   "codemirror_mode": {
    "name": "ipython",
    "version": 3
   },
   "file_extension": ".py",
   "mimetype": "text/x-python",
   "name": "python",
   "nbconvert_exporter": "python",
   "pygments_lexer": "ipython3",
   "version": "3.6.5"
  }
 },
 "nbformat": 4,
 "nbformat_minor": 2
}
